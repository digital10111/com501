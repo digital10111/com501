{
 "cells": [
  {
   "cell_type": "code",
   "execution_count": 8,
   "metadata": {},
   "outputs": [],
   "source": [
    "import pandas as pd"
   ]
  },
  {
   "cell_type": "code",
   "execution_count": 69,
   "metadata": {},
   "outputs": [],
   "source": [
    "df = pd.read_csv(\"data.csv\", delimiter=\"\\t\")"
   ]
  },
  {
   "cell_type": "code",
   "execution_count": 70,
   "metadata": {},
   "outputs": [
    {
     "data": {
      "text/html": [
       "<div>\n",
       "<style scoped>\n",
       "    .dataframe tbody tr th:only-of-type {\n",
       "        vertical-align: middle;\n",
       "    }\n",
       "\n",
       "    .dataframe tbody tr th {\n",
       "        vertical-align: top;\n",
       "    }\n",
       "\n",
       "    .dataframe thead th {\n",
       "        text-align: right;\n",
       "    }\n",
       "</style>\n",
       "<table border=\"1\" class=\"dataframe\">\n",
       "  <thead>\n",
       "    <tr style=\"text-align: right;\">\n",
       "      <th></th>\n",
       "      <th>device</th>\n",
       "      <th>screen_size</th>\n",
       "      <th>makes_calls</th>\n",
       "      <th>classification</th>\n",
       "    </tr>\n",
       "  </thead>\n",
       "  <tbody>\n",
       "    <tr>\n",
       "      <th>0</th>\n",
       "      <td>G1</td>\n",
       "      <td>6</td>\n",
       "      <td>Yes</td>\n",
       "      <td>Phone</td>\n",
       "    </tr>\n",
       "    <tr>\n",
       "      <th>1</th>\n",
       "      <td>S1</td>\n",
       "      <td>6</td>\n",
       "      <td>Yes</td>\n",
       "      <td>Phone</td>\n",
       "    </tr>\n",
       "    <tr>\n",
       "      <th>2</th>\n",
       "      <td>A1</td>\n",
       "      <td>7</td>\n",
       "      <td>Yes</td>\n",
       "      <td>Phone</td>\n",
       "    </tr>\n",
       "    <tr>\n",
       "      <th>3</th>\n",
       "      <td>G2</td>\n",
       "      <td>7</td>\n",
       "      <td>No</td>\n",
       "      <td>Tablet</td>\n",
       "    </tr>\n",
       "    <tr>\n",
       "      <th>4</th>\n",
       "      <td>S2</td>\n",
       "      <td>7</td>\n",
       "      <td>No</td>\n",
       "      <td>Tablet</td>\n",
       "    </tr>\n",
       "    <tr>\n",
       "      <th>5</th>\n",
       "      <td>A2</td>\n",
       "      <td>8</td>\n",
       "      <td>Yes</td>\n",
       "      <td>Tablet</td>\n",
       "    </tr>\n",
       "  </tbody>\n",
       "</table>\n",
       "</div>"
      ],
      "text/plain": [
       "  device  screen_size makes_calls classification\n",
       "0     G1            6         Yes          Phone\n",
       "1     S1            6         Yes          Phone\n",
       "2     A1            7         Yes          Phone\n",
       "3     G2            7          No         Tablet\n",
       "4     S2            7          No         Tablet\n",
       "5     A2            8         Yes         Tablet"
      ]
     },
     "execution_count": 70,
     "metadata": {},
     "output_type": "execute_result"
    }
   ],
   "source": [
    "df"
   ]
  },
  {
   "cell_type": "code",
   "execution_count": 68,
   "metadata": {},
   "outputs": [],
   "source": [
    "phone = \"phone\"\n",
    "reptiles = \"reptiles\"\n",
    "fish = \"fish\"\n",
    "amphibians = \"amphibians\"\n",
    "birds = \"birds\"\n",
    "\n",
    "classes = [mammals, reptiles, fish, amphibians, birds]\n",
    "\n",
    "\n",
    "def gini_impurity(dict_class_counts):\n",
    "    total = sum(dict_class_counts.values())\n",
    "\n",
    "    accumulated_sum = 0\n",
    "    for a_class in classes:\n",
    "        class_count = dict_class_counts.get(a_class, 0)\n",
    "        accumulated_sum += (class_count/total)**2\n",
    "\n",
    "    return 1.0 - accumulated_sum\n",
    "\n",
    "\n",
    "def attribute_split_test(data, attribute, target=\"animal_class\", impurity='gini'):\n",
    "    positive_branch = data[data[attribute] == 1][target]\n",
    "    negative_branch = data[data[attribute] == 0][target]\n",
    "\n",
    "    positive_branch_class_counts = positive_branch.value_counts().to_dict()\n",
    "    negative_branch_class_counts = negative_branch.value_counts().to_dict()\n",
    "\n",
    "    positive_branch_impurity = gini_impurity(positive_branch_class_counts)\n",
    "    negative_branch_impurity = gini_impurity(negative_branch_class_counts)\n",
    "\n",
    "    positive_branch_weight = positive_branch.shape[0]/float(data.shape[0])\n",
    "    negative_branch_weight = negative_branch.shape[0] / float(data.shape[0])\n",
    "\n",
    "    split_impurity = positive_branch_weight*positive_branch_impurity + negative_branch_weight*negative_branch_impurity\n",
    "    return split_impurity, [positive_branch_class_counts, positive_branch_impurity, positive_branch_weight, negative_branch_class_counts, negative_branch_impurity, negative_branch_weight]"
   ]
  },
  {
   "cell_type": "code",
   "execution_count": null,
   "metadata": {},
   "outputs": [],
   "source": []
  }
 ],
 "metadata": {
  "kernelspec": {
   "display_name": "Python 3",
   "language": "python",
   "name": "python3"
  },
  "language_info": {
   "codemirror_mode": {
    "name": "ipython",
    "version": 3
   },
   "file_extension": ".py",
   "mimetype": "text/x-python",
   "name": "python",
   "nbconvert_exporter": "python",
   "pygments_lexer": "ipython3",
   "version": "3.8.3"
  }
 },
 "nbformat": 4,
 "nbformat_minor": 4
}
