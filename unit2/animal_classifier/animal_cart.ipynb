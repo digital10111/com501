{
 "cells": [
  {
   "cell_type": "code",
   "execution_count": 101,
   "metadata": {},
   "outputs": [],
   "source": [
    "import pandas as pd\n",
    "import seaborn as sns\n",
    "import sklearn\n",
    "import numpy as np\n",
    "import matplotlib.pyplot as plt\n",
    "from sklearn import preprocessing\n",
    "from sklearn.tree import DecisionTreeClassifier, plot_tree\n",
    "import sklearn.tree as tree\n",
    " \n"
   ]
  },
  {
   "cell_type": "code",
   "execution_count": 131,
   "metadata": {},
   "outputs": [],
   "source": [
    "classes = [0, 1]\n",
    "\n",
    "\n",
    "def gini_impurity(dict_class_counts):\n",
    "    total = sum(dict_class_counts.values())\n",
    "\n",
    "    accumulated_sum = 0\n",
    "    for a_class in classes:\n",
    "        class_count = dict_class_counts.get(a_class, 0)\n",
    "        accumulated_sum += (class_count/total)**2\n",
    "\n",
    "    return 1.0 - accumulated_sum\n",
    "\n",
    "\n",
    "def attribute_split_test(data, attribute, target):\n",
    "    positive_branch = data[data[attribute] == 1][target]\n",
    "    negative_branch = data[data[attribute] == 0][target]\n",
    "\n",
    "    positive_branch_class_counts = positive_branch.value_counts().to_dict()\n",
    "    negative_branch_class_counts = negative_branch.value_counts().to_dict()\n",
    "\n",
    "    positive_branch_impurity = gini_impurity(positive_branch_class_counts)\n",
    "    negative_branch_impurity = gini_impurity(negative_branch_class_counts)\n",
    "\n",
    "    positive_branch_weight = positive_branch.shape[0]/float(data.shape[0])\n",
    "    negative_branch_weight = negative_branch.shape[0] / float(data.shape[0])\n",
    "\n",
    "    split_impurity = positive_branch_weight*positive_branch_impurity + negative_branch_weight*negative_branch_impurity\n",
    "    info = [positive_branch_class_counts, positive_branch_impurity, positive_branch_weight, negative_branch_class_counts, negative_branch_impurity, negative_branch_weight]\n",
    "    return split_impurity\n"
   ]
  },
  {
   "cell_type": "code",
   "execution_count": 132,
   "metadata": {},
   "outputs": [],
   "source": [
    "df = pd.read_csv(\"animal_class_dataset.tsv\", sep=\"\\t\")\n",
    "features = list(set(df.columns) - {\"name\", \"animal_class\"})\n",
    "df[\"target\"] = df.animal_class.apply(lambda x: 1 if x == \"mammals\" else 0)"
   ]
  },
  {
   "cell_type": "code",
   "execution_count": 146,
   "metadata": {},
   "outputs": [
    {
     "data": {
      "text/html": [
       "<div>\n",
       "<style scoped>\n",
       "    .dataframe tbody tr th:only-of-type {\n",
       "        vertical-align: middle;\n",
       "    }\n",
       "\n",
       "    .dataframe tbody tr th {\n",
       "        vertical-align: top;\n",
       "    }\n",
       "\n",
       "    .dataframe thead th {\n",
       "        text-align: right;\n",
       "    }\n",
       "</style>\n",
       "<table border=\"1\" class=\"dataframe\">\n",
       "  <thead>\n",
       "    <tr style=\"text-align: right;\">\n",
       "      <th></th>\n",
       "      <th>name</th>\n",
       "      <th>gives_birth</th>\n",
       "      <th>warm-blooded</th>\n",
       "      <th>aquatic_creature</th>\n",
       "      <th>aerial_creature</th>\n",
       "      <th>has_legs</th>\n",
       "      <th>hibernates</th>\n",
       "      <th>animal_class</th>\n",
       "      <th>target</th>\n",
       "    </tr>\n",
       "  </thead>\n",
       "  <tbody>\n",
       "    <tr>\n",
       "      <th>0</th>\n",
       "      <td>human</td>\n",
       "      <td>1</td>\n",
       "      <td>1</td>\n",
       "      <td>0</td>\n",
       "      <td>0</td>\n",
       "      <td>1</td>\n",
       "      <td>0</td>\n",
       "      <td>mammals</td>\n",
       "      <td>1</td>\n",
       "    </tr>\n",
       "    <tr>\n",
       "      <th>1</th>\n",
       "      <td>python</td>\n",
       "      <td>0</td>\n",
       "      <td>0</td>\n",
       "      <td>0</td>\n",
       "      <td>0</td>\n",
       "      <td>0</td>\n",
       "      <td>1</td>\n",
       "      <td>reptiles</td>\n",
       "      <td>0</td>\n",
       "    </tr>\n",
       "    <tr>\n",
       "      <th>2</th>\n",
       "      <td>salmon</td>\n",
       "      <td>0</td>\n",
       "      <td>0</td>\n",
       "      <td>1</td>\n",
       "      <td>0</td>\n",
       "      <td>0</td>\n",
       "      <td>0</td>\n",
       "      <td>fish</td>\n",
       "      <td>0</td>\n",
       "    </tr>\n",
       "    <tr>\n",
       "      <th>3</th>\n",
       "      <td>whale</td>\n",
       "      <td>1</td>\n",
       "      <td>1</td>\n",
       "      <td>1</td>\n",
       "      <td>0</td>\n",
       "      <td>0</td>\n",
       "      <td>0</td>\n",
       "      <td>mammals</td>\n",
       "      <td>1</td>\n",
       "    </tr>\n",
       "    <tr>\n",
       "      <th>4</th>\n",
       "      <td>frog</td>\n",
       "      <td>0</td>\n",
       "      <td>0</td>\n",
       "      <td>1</td>\n",
       "      <td>0</td>\n",
       "      <td>1</td>\n",
       "      <td>1</td>\n",
       "      <td>amphibians</td>\n",
       "      <td>0</td>\n",
       "    </tr>\n",
       "  </tbody>\n",
       "</table>\n",
       "</div>"
      ],
      "text/plain": [
       "     name  gives_birth  warm-blooded  aquatic_creature  aerial_creature  \\\n",
       "0   human            1             1                 0                0   \n",
       "1  python            0             0                 0                0   \n",
       "2  salmon            0             0                 1                0   \n",
       "3   whale            1             1                 1                0   \n",
       "4    frog            0             0                 1                0   \n",
       "\n",
       "   has_legs  hibernates animal_class  target  \n",
       "0         1           0      mammals       1  \n",
       "1         0           1     reptiles       0  \n",
       "2         0           0         fish       0  \n",
       "3         0           0      mammals       1  \n",
       "4         1           1   amphibians       0  "
      ]
     },
     "execution_count": 146,
     "metadata": {},
     "output_type": "execute_result"
    }
   ],
   "source": [
    "df.head()"
   ]
  },
  {
   "cell_type": "code",
   "execution_count": 145,
   "metadata": {},
   "outputs": [
    {
     "data": {
      "image/png": "[encoded data removed]",
      "text/plain": [
       "<Figure size 1440x216 with 1 Axes>"
      ]
     },
     "metadata": {
      "needs_background": "light"
     },
     "output_type": "display_data"
    }
   ],
   "source": [
    "clf = DecisionTreeClassifier(max_depth=2, random_state=10)\n",
    "X_train = df[features].astype(bool)\n",
    "clf.fit(X_train, df[\"target\"])\n",
    "\n",
    "plt.rcParams[\"figure.figsize\"] = (20,3)\n",
    "tree.plot_tree(clf)\n",
    "plt.show()"
   ]
  },
  {
   "cell_type": "code",
   "execution_count": 135,
   "metadata": {},
   "outputs": [
    {
     "name": "stdout",
     "output_type": "stream",
     "text": [
      "parent gini:  0.4444444444444444\n"
     ]
    }
   ],
   "source": [
    "parent_gini = gini_impurity(df.target.value_counts().to_dict())\n",
    "print(\"parent gini: \", parent_gini)"
   ]
  },
  {
   "cell_type": "code",
   "execution_count": 144,
   "metadata": {},
   "outputs": [
    {
     "data": {
      "text/plain": [
       "[('gives_birth', 0.11),\n",
       " ('warm-blooded', 0.19),\n",
       " ('aquatic_creature', 0.35),\n",
       " ('has_legs', 0.43),\n",
       " ('hibernates', 0.44),\n",
       " ('aerial_creature', 0.44)]"
      ]
     },
     "execution_count": 144,
     "metadata": {},
     "output_type": "execute_result"
    }
   ],
   "source": [
    "sorted([(feature, np.round(attribute_split_test(df, feature, target=\"target\"), 2)) for feature in features], key=lambda x: x[1])"
   ]
  },
  {
   "cell_type": "markdown",
   "metadata": {},
   "source": [
    "# use gives birth"
   ]
  },
  {
   "cell_type": "code",
   "execution_count": 137,
   "metadata": {},
   "outputs": [],
   "source": [
    "gives_birth_pos = df[df.gives_birth == 1]\n",
    "gives_birth_neg = df[df.gives_birth == 0]"
   ]
  },
  {
   "cell_type": "code",
   "execution_count": 148,
   "metadata": {},
   "outputs": [
    {
     "data": {
      "text/plain": [
       "1    5\n",
       "0    1\n",
       "Name: target, dtype: int64"
      ]
     },
     "execution_count": 148,
     "metadata": {},
     "output_type": "execute_result"
    }
   ],
   "source": [
    "gives_birth_pos.target.value_counts()"
   ]
  },
  {
   "cell_type": "code",
   "execution_count": 149,
   "metadata": {},
   "outputs": [
    {
     "name": "stdout",
     "output_type": "stream",
     "text": [
      "gives birth pos gini:  0.2777777777777777\n"
     ]
    }
   ],
   "source": [
    "gb_pos_gini = gini_impurity(gives_birth_pos.target.value_counts().to_dict())\n",
    "print(\"gives birth pos gini: \", gb_pos_gini)"
   ]
  },
  {
   "cell_type": "code",
   "execution_count": 139,
   "metadata": {},
   "outputs": [
    {
     "name": "stdout",
     "output_type": "stream",
     "text": [
      "gives birth neg gini:  0.0\n"
     ]
    }
   ],
   "source": [
    "gb_neg_gini = gini_impurity(gives_birth_neg.target.value_counts().to_dict())\n",
    "print(\"gives birth neg gini: \", gb_neg_gini)"
   ]
  },
  {
   "cell_type": "code",
   "execution_count": 140,
   "metadata": {},
   "outputs": [],
   "source": [
    "features_2 = set(features) - {\"gives_birth\"}"
   ]
  },
  {
   "cell_type": "code",
   "execution_count": 151,
   "metadata": {},
   "outputs": [
    {
     "data": {
      "text/plain": [
       "[('warm-blooded', 0.0),\n",
       " ('aquatic_creature', 0.17),\n",
       " ('has_legs', 0.17),\n",
       " ('hibernates', 0.25),\n",
       " ('aerial_creature', 0.27)]"
      ]
     },
     "execution_count": 151,
     "metadata": {},
     "output_type": "execute_result"
    }
   ],
   "source": [
    "sorted([(feature, np.round(attribute_split_test(gives_birth_pos, feature, target=\"target\"), 2)) for feature in features_2], key=lambda x: x[1])"
   ]
  }
 ],
 "metadata": {
  "kernelspec": {
   "display_name": "Python 3",
   "language": "python",
   "name": "python3"
  },
  "language_info": {
   "codemirror_mode": {
    "name": "ipython",
    "version": 3
   },
   "file_extension": ".py",
   "mimetype": "text/x-python",
   "name": "python",
   "nbconvert_exporter": "python",
   "pygments_lexer": "ipython3",
   "version": "3.8.3"
  }
 },
 "nbformat": 4,
 "nbformat_minor": 4
}
