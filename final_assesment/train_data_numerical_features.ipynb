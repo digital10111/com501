{
 "cells": [
  {
   "cell_type": "code",
   "execution_count": 5,
   "id": "aac1de07-48a0-4212-9c23-933f6f417bef",
   "metadata": {},
   "outputs": [],
   "source": [
    "from data_util.get_train_test_data import get_train_test_data\n",
    "import numpy as np\n",
    "%matplotlib inline\n",
    "\n",
    "import pandas as pd\n",
    "import numpy as np\n",
    "import matplotlib.pyplot as plt"
   ]
  },
  {
   "cell_type": "code",
   "execution_count": 7,
   "id": "44708df5-6f8b-4dac-969f-a033959875e6",
   "metadata": {},
   "outputs": [],
   "source": [
    "X_train, X_test, y_train, y_test, df, X, y = get_train_test_data(\"/Users/karan.verma/com5101m/final_assesment/anneal.data\")"
   ]
  },
  {
   "cell_type": "code",
   "execution_count": 8,
   "id": "21c3386c-d014-4779-ae3a-4c6fbb38e07e",
   "metadata": {},
   "outputs": [
    {
     "data": {
      "text/html": [
       "<div>\n",
       "<style scoped>\n",
       "    .dataframe tbody tr th:only-of-type {\n",
       "        vertical-align: middle;\n",
       "    }\n",
       "\n",
       "    .dataframe tbody tr th {\n",
       "        vertical-align: top;\n",
       "    }\n",
       "\n",
       "    .dataframe thead th {\n",
       "        text-align: right;\n",
       "    }\n",
       "</style>\n",
       "<table border=\"1\" class=\"dataframe\">\n",
       "  <thead>\n",
       "    <tr style=\"text-align: right;\">\n",
       "      <th></th>\n",
       "      <th>family</th>\n",
       "      <th>product_type</th>\n",
       "      <th>steel</th>\n",
       "      <th>carbon</th>\n",
       "      <th>hardness</th>\n",
       "      <th>temper_rolling</th>\n",
       "      <th>condition</th>\n",
       "      <th>formability</th>\n",
       "      <th>strength</th>\n",
       "      <th>non_ageing</th>\n",
       "      <th>...</th>\n",
       "      <th>s</th>\n",
       "      <th>p</th>\n",
       "      <th>shape</th>\n",
       "      <th>thick</th>\n",
       "      <th>width</th>\n",
       "      <th>len</th>\n",
       "      <th>oil</th>\n",
       "      <th>bore</th>\n",
       "      <th>packing</th>\n",
       "      <th>target</th>\n",
       "    </tr>\n",
       "  </thead>\n",
       "  <tbody>\n",
       "    <tr>\n",
       "      <th>0</th>\n",
       "      <td>NaN</td>\n",
       "      <td>C</td>\n",
       "      <td>A</td>\n",
       "      <td>8</td>\n",
       "      <td>0</td>\n",
       "      <td>NaN</td>\n",
       "      <td>S</td>\n",
       "      <td>NaN</td>\n",
       "      <td>0</td>\n",
       "      <td>NaN</td>\n",
       "      <td>...</td>\n",
       "      <td>NaN</td>\n",
       "      <td>NaN</td>\n",
       "      <td>COIL</td>\n",
       "      <td>0.700</td>\n",
       "      <td>610.0</td>\n",
       "      <td>0</td>\n",
       "      <td>NaN</td>\n",
       "      <td>0</td>\n",
       "      <td>NaN</td>\n",
       "      <td>3</td>\n",
       "    </tr>\n",
       "    <tr>\n",
       "      <th>1</th>\n",
       "      <td>NaN</td>\n",
       "      <td>C</td>\n",
       "      <td>R</td>\n",
       "      <td>0</td>\n",
       "      <td>0</td>\n",
       "      <td>NaN</td>\n",
       "      <td>S</td>\n",
       "      <td>2</td>\n",
       "      <td>0</td>\n",
       "      <td>NaN</td>\n",
       "      <td>...</td>\n",
       "      <td>NaN</td>\n",
       "      <td>NaN</td>\n",
       "      <td>COIL</td>\n",
       "      <td>3.200</td>\n",
       "      <td>610.0</td>\n",
       "      <td>0</td>\n",
       "      <td>NaN</td>\n",
       "      <td>0</td>\n",
       "      <td>NaN</td>\n",
       "      <td>3</td>\n",
       "    </tr>\n",
       "    <tr>\n",
       "      <th>2</th>\n",
       "      <td>NaN</td>\n",
       "      <td>C</td>\n",
       "      <td>R</td>\n",
       "      <td>0</td>\n",
       "      <td>0</td>\n",
       "      <td>NaN</td>\n",
       "      <td>S</td>\n",
       "      <td>2</td>\n",
       "      <td>0</td>\n",
       "      <td>NaN</td>\n",
       "      <td>...</td>\n",
       "      <td>NaN</td>\n",
       "      <td>NaN</td>\n",
       "      <td>SHEET</td>\n",
       "      <td>0.700</td>\n",
       "      <td>1300.0</td>\n",
       "      <td>762</td>\n",
       "      <td>NaN</td>\n",
       "      <td>0</td>\n",
       "      <td>NaN</td>\n",
       "      <td>3</td>\n",
       "    </tr>\n",
       "    <tr>\n",
       "      <th>3</th>\n",
       "      <td>NaN</td>\n",
       "      <td>C</td>\n",
       "      <td>A</td>\n",
       "      <td>0</td>\n",
       "      <td>60</td>\n",
       "      <td>T</td>\n",
       "      <td>NaN</td>\n",
       "      <td>NaN</td>\n",
       "      <td>0</td>\n",
       "      <td>NaN</td>\n",
       "      <td>...</td>\n",
       "      <td>NaN</td>\n",
       "      <td>NaN</td>\n",
       "      <td>COIL</td>\n",
       "      <td>2.801</td>\n",
       "      <td>385.1</td>\n",
       "      <td>0</td>\n",
       "      <td>NaN</td>\n",
       "      <td>0</td>\n",
       "      <td>NaN</td>\n",
       "      <td>3</td>\n",
       "    </tr>\n",
       "    <tr>\n",
       "      <th>4</th>\n",
       "      <td>NaN</td>\n",
       "      <td>C</td>\n",
       "      <td>A</td>\n",
       "      <td>0</td>\n",
       "      <td>60</td>\n",
       "      <td>T</td>\n",
       "      <td>NaN</td>\n",
       "      <td>NaN</td>\n",
       "      <td>0</td>\n",
       "      <td>NaN</td>\n",
       "      <td>...</td>\n",
       "      <td>NaN</td>\n",
       "      <td>NaN</td>\n",
       "      <td>SHEET</td>\n",
       "      <td>0.801</td>\n",
       "      <td>255.0</td>\n",
       "      <td>269</td>\n",
       "      <td>NaN</td>\n",
       "      <td>0</td>\n",
       "      <td>NaN</td>\n",
       "      <td>3</td>\n",
       "    </tr>\n",
       "    <tr>\n",
       "      <th>...</th>\n",
       "      <td>...</td>\n",
       "      <td>...</td>\n",
       "      <td>...</td>\n",
       "      <td>...</td>\n",
       "      <td>...</td>\n",
       "      <td>...</td>\n",
       "      <td>...</td>\n",
       "      <td>...</td>\n",
       "      <td>...</td>\n",
       "      <td>...</td>\n",
       "      <td>...</td>\n",
       "      <td>...</td>\n",
       "      <td>...</td>\n",
       "      <td>...</td>\n",
       "      <td>...</td>\n",
       "      <td>...</td>\n",
       "      <td>...</td>\n",
       "      <td>...</td>\n",
       "      <td>...</td>\n",
       "      <td>...</td>\n",
       "      <td>...</td>\n",
       "    </tr>\n",
       "    <tr>\n",
       "      <th>793</th>\n",
       "      <td>NaN</td>\n",
       "      <td>C</td>\n",
       "      <td>A</td>\n",
       "      <td>0</td>\n",
       "      <td>50</td>\n",
       "      <td>T</td>\n",
       "      <td>NaN</td>\n",
       "      <td>NaN</td>\n",
       "      <td>0</td>\n",
       "      <td>NaN</td>\n",
       "      <td>...</td>\n",
       "      <td>NaN</td>\n",
       "      <td>NaN</td>\n",
       "      <td>COIL</td>\n",
       "      <td>1.001</td>\n",
       "      <td>50.0</td>\n",
       "      <td>0</td>\n",
       "      <td>Y</td>\n",
       "      <td>0</td>\n",
       "      <td>NaN</td>\n",
       "      <td>3</td>\n",
       "    </tr>\n",
       "    <tr>\n",
       "      <th>794</th>\n",
       "      <td>NaN</td>\n",
       "      <td>C</td>\n",
       "      <td>A</td>\n",
       "      <td>0</td>\n",
       "      <td>0</td>\n",
       "      <td>NaN</td>\n",
       "      <td>S</td>\n",
       "      <td>1</td>\n",
       "      <td>0</td>\n",
       "      <td>NaN</td>\n",
       "      <td>...</td>\n",
       "      <td>NaN</td>\n",
       "      <td>NaN</td>\n",
       "      <td>SHEET</td>\n",
       "      <td>0.699</td>\n",
       "      <td>1300.0</td>\n",
       "      <td>4880</td>\n",
       "      <td>NaN</td>\n",
       "      <td>0</td>\n",
       "      <td>NaN</td>\n",
       "      <td>3</td>\n",
       "    </tr>\n",
       "    <tr>\n",
       "      <th>795</th>\n",
       "      <td>NaN</td>\n",
       "      <td>C</td>\n",
       "      <td>A</td>\n",
       "      <td>0</td>\n",
       "      <td>0</td>\n",
       "      <td>NaN</td>\n",
       "      <td>S</td>\n",
       "      <td>2</td>\n",
       "      <td>0</td>\n",
       "      <td>NaN</td>\n",
       "      <td>...</td>\n",
       "      <td>NaN</td>\n",
       "      <td>NaN</td>\n",
       "      <td>COIL</td>\n",
       "      <td>0.400</td>\n",
       "      <td>609.9</td>\n",
       "      <td>0</td>\n",
       "      <td>NaN</td>\n",
       "      <td>0</td>\n",
       "      <td>NaN</td>\n",
       "      <td>3</td>\n",
       "    </tr>\n",
       "    <tr>\n",
       "      <th>796</th>\n",
       "      <td>NaN</td>\n",
       "      <td>C</td>\n",
       "      <td>A</td>\n",
       "      <td>0</td>\n",
       "      <td>0</td>\n",
       "      <td>NaN</td>\n",
       "      <td>S</td>\n",
       "      <td>2</td>\n",
       "      <td>0</td>\n",
       "      <td>NaN</td>\n",
       "      <td>...</td>\n",
       "      <td>NaN</td>\n",
       "      <td>NaN</td>\n",
       "      <td>SHEET</td>\n",
       "      <td>3.200</td>\n",
       "      <td>610.0</td>\n",
       "      <td>4880</td>\n",
       "      <td>NaN</td>\n",
       "      <td>0</td>\n",
       "      <td>NaN</td>\n",
       "      <td>3</td>\n",
       "    </tr>\n",
       "    <tr>\n",
       "      <th>797</th>\n",
       "      <td>NaN</td>\n",
       "      <td>C</td>\n",
       "      <td>R</td>\n",
       "      <td>0</td>\n",
       "      <td>0</td>\n",
       "      <td>NaN</td>\n",
       "      <td>S</td>\n",
       "      <td>2</td>\n",
       "      <td>0</td>\n",
       "      <td>NaN</td>\n",
       "      <td>...</td>\n",
       "      <td>NaN</td>\n",
       "      <td>NaN</td>\n",
       "      <td>SHEET</td>\n",
       "      <td>1.599</td>\n",
       "      <td>1500.0</td>\n",
       "      <td>4170</td>\n",
       "      <td>NaN</td>\n",
       "      <td>0</td>\n",
       "      <td>NaN</td>\n",
       "      <td>2</td>\n",
       "    </tr>\n",
       "  </tbody>\n",
       "</table>\n",
       "<p>790 rows × 39 columns</p>\n",
       "</div>"
      ],
      "text/plain": [
       "    family product_type steel  carbon  hardness temper_rolling condition  \\\n",
       "0      NaN            C     A       8         0            NaN         S   \n",
       "1      NaN            C     R       0         0            NaN         S   \n",
       "2      NaN            C     R       0         0            NaN         S   \n",
       "3      NaN            C     A       0        60              T       NaN   \n",
       "4      NaN            C     A       0        60              T       NaN   \n",
       "..     ...          ...   ...     ...       ...            ...       ...   \n",
       "793    NaN            C     A       0        50              T       NaN   \n",
       "794    NaN            C     A       0         0            NaN         S   \n",
       "795    NaN            C     A       0         0            NaN         S   \n",
       "796    NaN            C     A       0         0            NaN         S   \n",
       "797    NaN            C     R       0         0            NaN         S   \n",
       "\n",
       "    formability  strength non_ageing  ...   s   p  shape  thick   width   len  \\\n",
       "0           NaN         0        NaN  ... NaN NaN   COIL  0.700   610.0     0   \n",
       "1             2         0        NaN  ... NaN NaN   COIL  3.200   610.0     0   \n",
       "2             2         0        NaN  ... NaN NaN  SHEET  0.700  1300.0   762   \n",
       "3           NaN         0        NaN  ... NaN NaN   COIL  2.801   385.1     0   \n",
       "4           NaN         0        NaN  ... NaN NaN  SHEET  0.801   255.0   269   \n",
       "..          ...       ...        ...  ...  ..  ..    ...    ...     ...   ...   \n",
       "793         NaN         0        NaN  ... NaN NaN   COIL  1.001    50.0     0   \n",
       "794           1         0        NaN  ... NaN NaN  SHEET  0.699  1300.0  4880   \n",
       "795           2         0        NaN  ... NaN NaN   COIL  0.400   609.9     0   \n",
       "796           2         0        NaN  ... NaN NaN  SHEET  3.200   610.0  4880   \n",
       "797           2         0        NaN  ... NaN NaN  SHEET  1.599  1500.0  4170   \n",
       "\n",
       "     oil bore  packing target  \n",
       "0    NaN    0      NaN      3  \n",
       "1    NaN    0      NaN      3  \n",
       "2    NaN    0      NaN      3  \n",
       "3    NaN    0      NaN      3  \n",
       "4    NaN    0      NaN      3  \n",
       "..   ...  ...      ...    ...  \n",
       "793    Y    0      NaN      3  \n",
       "794  NaN    0      NaN      3  \n",
       "795  NaN    0      NaN      3  \n",
       "796  NaN    0      NaN      3  \n",
       "797  NaN    0      NaN      2  \n",
       "\n",
       "[790 rows x 39 columns]"
      ]
     },
     "execution_count": 8,
     "metadata": {},
     "output_type": "execute_result"
    }
   ],
   "source": [
    "df"
   ]
  },
  {
   "cell_type": "code",
   "execution_count": 11,
   "id": "4281ef52-6e63-4313-84e0-1cf6e5a7ea3a",
   "metadata": {},
   "outputs": [
    {
     "data": {
      "text/plain": [
       "carbon      False\n",
       "hardness    False\n",
       "strength    False\n",
       "thick       False\n",
       "width       False\n",
       "len         False\n",
       "dtype: bool"
      ]
     },
     "execution_count": 11,
     "metadata": {},
     "output_type": "execute_result"
    }
   ],
   "source": [
    "df[[\"carbon\", \"hardness\", \"strength\", \"thick\", \"width\", \"len\"]].isnull().any()"
   ]
  },
  {
   "cell_type": "code",
   "execution_count": 5,
   "id": "89817f50-ead1-4f0a-8ae2-4235a8ca4983",
   "metadata": {},
   "outputs": [],
   "source": [
    "categorical_features = [\"steel\", \"shape\", \"bore\"]\n",
    "numerical_features = list((set(df.columns.to_list()) - set(categorical_features)) - {'target'})"
   ]
  },
  {
   "cell_type": "code",
   "execution_count": 6,
   "id": "99833cb3-ae33-4ede-b774-ac1a7fd14768",
   "metadata": {},
   "outputs": [
    {
     "data": {
      "text/plain": [
       "['carbon', 'len', 'width', 'hardness', 'thick', 'strength']"
      ]
     },
     "execution_count": 6,
     "metadata": {},
     "output_type": "execute_result"
    }
   ],
   "source": [
    "numerical_features"
   ]
  },
  {
   "cell_type": "code",
   "execution_count": null,
   "id": "5d8cc610-8156-4b79-856e-ba0b1195b267",
   "metadata": {},
   "outputs": [],
   "source": []
  },
  {
   "cell_type": "code",
   "execution_count": 7,
   "id": "60b38900-17e7-490a-8d0d-f44cd7c3ab53",
   "metadata": {},
   "outputs": [],
   "source": [
    "numerical_df = df[numerical_features]"
   ]
  },
  {
   "cell_type": "code",
   "execution_count": 43,
   "id": "c7d93a1d-fedf-435e-9186-f67e44cb03ed",
   "metadata": {},
   "outputs": [
    {
     "data": {
      "text/plain": [
       "[<matplotlib.lines.Line2D at 0x7f96b7b0cfd0>]"
      ]
     },
     "execution_count": 43,
     "metadata": {},
     "output_type": "execute_result"
    },
    {
     "data": {
      "image/png": "[encoded data removed]",
      "text/plain": [
       "<Figure size 432x288 with 1 Axes>"
      ]
     },
     "metadata": {
      "needs_background": "light"
     },
     "output_type": "display_data"
    }
   ],
   "source": [
    "plt.plot(numerical_df.strength, numerical_df.width,'.')"
   ]
  },
  {
   "cell_type": "code",
   "execution_count": 38,
   "id": "fe4e26e5-fcb0-4a29-81a2-c9b3d75d52b5",
   "metadata": {},
   "outputs": [
    {
     "data": {
      "text/plain": [
       "<AxesSubplot:>"
      ]
     },
     "execution_count": 38,
     "metadata": {},
     "output_type": "execute_result"
    },
    {
     "data": {
      "image/png": "[encoded data removed]",
      "text/plain": [
       "<Figure size 432x288 with 1 Axes>"
      ]
     },
     "metadata": {
      "needs_background": "light"
     },
     "output_type": "display_data"
    }
   ],
   "source": [
    "numerical_df.plot()"
   ]
  },
  {
   "cell_type": "code",
   "execution_count": 14,
   "id": "273cf1a1-bf1e-4431-8ad8-039d90b90778",
   "metadata": {},
   "outputs": [
    {
     "data": {
      "text/html": [
       "<div>\n",
       "<style scoped>\n",
       "    .dataframe tbody tr th:only-of-type {\n",
       "        vertical-align: middle;\n",
       "    }\n",
       "\n",
       "    .dataframe tbody tr th {\n",
       "        vertical-align: top;\n",
       "    }\n",
       "\n",
       "    .dataframe thead th {\n",
       "        text-align: right;\n",
       "    }\n",
       "</style>\n",
       "<table border=\"1\" class=\"dataframe\">\n",
       "  <thead>\n",
       "    <tr style=\"text-align: right;\">\n",
       "      <th></th>\n",
       "      <th>carbon</th>\n",
       "      <th>len</th>\n",
       "      <th>width</th>\n",
       "      <th>hardness</th>\n",
       "      <th>thick</th>\n",
       "      <th>strength</th>\n",
       "    </tr>\n",
       "  </thead>\n",
       "  <tbody>\n",
       "    <tr>\n",
       "      <th>count</th>\n",
       "      <td>790.000000</td>\n",
       "      <td>790.000000</td>\n",
       "      <td>790.000000</td>\n",
       "      <td>790.000000</td>\n",
       "      <td>790.000000</td>\n",
       "      <td>790.000000</td>\n",
       "    </tr>\n",
       "    <tr>\n",
       "      <th>mean</th>\n",
       "      <td>3.579747</td>\n",
       "      <td>1285.929114</td>\n",
       "      <td>784.743165</td>\n",
       "      <td>11.867089</td>\n",
       "      <td>1.185587</td>\n",
       "      <td>27.493671</td>\n",
       "    </tr>\n",
       "    <tr>\n",
       "      <th>std</th>\n",
       "      <td>13.657242</td>\n",
       "      <td>1891.927765</td>\n",
       "      <td>404.222134</td>\n",
       "      <td>24.716928</td>\n",
       "      <td>0.865034</td>\n",
       "      <td>109.695034</td>\n",
       "    </tr>\n",
       "    <tr>\n",
       "      <th>min</th>\n",
       "      <td>0.000000</td>\n",
       "      <td>0.000000</td>\n",
       "      <td>0.000000</td>\n",
       "      <td>0.000000</td>\n",
       "      <td>0.250000</td>\n",
       "      <td>0.000000</td>\n",
       "    </tr>\n",
       "    <tr>\n",
       "      <th>10%</th>\n",
       "      <td>0.000000</td>\n",
       "      <td>0.000000</td>\n",
       "      <td>255.090000</td>\n",
       "      <td>0.000000</td>\n",
       "      <td>0.400000</td>\n",
       "      <td>0.000000</td>\n",
       "    </tr>\n",
       "    <tr>\n",
       "      <th>20%</th>\n",
       "      <td>0.000000</td>\n",
       "      <td>0.000000</td>\n",
       "      <td>609.900000</td>\n",
       "      <td>0.000000</td>\n",
       "      <td>0.600000</td>\n",
       "      <td>0.000000</td>\n",
       "    </tr>\n",
       "    <tr>\n",
       "      <th>30%</th>\n",
       "      <td>0.000000</td>\n",
       "      <td>0.000000</td>\n",
       "      <td>610.000000</td>\n",
       "      <td>0.000000</td>\n",
       "      <td>0.699000</td>\n",
       "      <td>0.000000</td>\n",
       "    </tr>\n",
       "    <tr>\n",
       "      <th>40%</th>\n",
       "      <td>0.000000</td>\n",
       "      <td>0.000000</td>\n",
       "      <td>610.000000</td>\n",
       "      <td>0.000000</td>\n",
       "      <td>0.700000</td>\n",
       "      <td>0.000000</td>\n",
       "    </tr>\n",
       "    <tr>\n",
       "      <th>50%</th>\n",
       "      <td>0.000000</td>\n",
       "      <td>612.000000</td>\n",
       "      <td>610.000000</td>\n",
       "      <td>0.000000</td>\n",
       "      <td>0.800000</td>\n",
       "      <td>0.000000</td>\n",
       "    </tr>\n",
       "    <tr>\n",
       "      <th>60%</th>\n",
       "      <td>0.000000</td>\n",
       "      <td>762.000000</td>\n",
       "      <td>610.000000</td>\n",
       "      <td>0.000000</td>\n",
       "      <td>1.000000</td>\n",
       "      <td>0.000000</td>\n",
       "    </tr>\n",
       "    <tr>\n",
       "      <th>70%</th>\n",
       "      <td>0.000000</td>\n",
       "      <td>762.000000</td>\n",
       "      <td>1220.000000</td>\n",
       "      <td>0.000000</td>\n",
       "      <td>1.500000</td>\n",
       "      <td>0.000000</td>\n",
       "    </tr>\n",
       "    <tr>\n",
       "      <th>80%</th>\n",
       "      <td>0.000000</td>\n",
       "      <td>4170.000000</td>\n",
       "      <td>1300.000000</td>\n",
       "      <td>9.000000</td>\n",
       "      <td>1.600000</td>\n",
       "      <td>0.000000</td>\n",
       "    </tr>\n",
       "    <tr>\n",
       "      <th>90%</th>\n",
       "      <td>0.000000</td>\n",
       "      <td>4880.000000</td>\n",
       "      <td>1320.000000</td>\n",
       "      <td>50.000000</td>\n",
       "      <td>2.530900</td>\n",
       "      <td>0.000000</td>\n",
       "    </tr>\n",
       "    <tr>\n",
       "      <th>95%</th>\n",
       "      <td>45.000000</td>\n",
       "      <td>4880.000000</td>\n",
       "      <td>1320.000000</td>\n",
       "      <td>70.000000</td>\n",
       "      <td>3.200000</td>\n",
       "      <td>310.000000</td>\n",
       "    </tr>\n",
       "    <tr>\n",
       "      <th>99%</th>\n",
       "      <td>65.000000</td>\n",
       "      <td>4880.000000</td>\n",
       "      <td>1500.000000</td>\n",
       "      <td>85.000000</td>\n",
       "      <td>4.000000</td>\n",
       "      <td>600.000000</td>\n",
       "    </tr>\n",
       "    <tr>\n",
       "      <th>99.9%</th>\n",
       "      <td>70.000000</td>\n",
       "      <td>4880.000000</td>\n",
       "      <td>1525.000000</td>\n",
       "      <td>85.000000</td>\n",
       "      <td>4.000000</td>\n",
       "      <td>600.000000</td>\n",
       "    </tr>\n",
       "    <tr>\n",
       "      <th>max</th>\n",
       "      <td>70.000000</td>\n",
       "      <td>4880.000000</td>\n",
       "      <td>1525.000000</td>\n",
       "      <td>85.000000</td>\n",
       "      <td>4.000000</td>\n",
       "      <td>600.000000</td>\n",
       "    </tr>\n",
       "  </tbody>\n",
       "</table>\n",
       "</div>"
      ],
      "text/plain": [
       "           carbon          len        width    hardness       thick  \\\n",
       "count  790.000000   790.000000   790.000000  790.000000  790.000000   \n",
       "mean     3.579747  1285.929114   784.743165   11.867089    1.185587   \n",
       "std     13.657242  1891.927765   404.222134   24.716928    0.865034   \n",
       "min      0.000000     0.000000     0.000000    0.000000    0.250000   \n",
       "10%      0.000000     0.000000   255.090000    0.000000    0.400000   \n",
       "20%      0.000000     0.000000   609.900000    0.000000    0.600000   \n",
       "30%      0.000000     0.000000   610.000000    0.000000    0.699000   \n",
       "40%      0.000000     0.000000   610.000000    0.000000    0.700000   \n",
       "50%      0.000000   612.000000   610.000000    0.000000    0.800000   \n",
       "60%      0.000000   762.000000   610.000000    0.000000    1.000000   \n",
       "70%      0.000000   762.000000  1220.000000    0.000000    1.500000   \n",
       "80%      0.000000  4170.000000  1300.000000    9.000000    1.600000   \n",
       "90%      0.000000  4880.000000  1320.000000   50.000000    2.530900   \n",
       "95%     45.000000  4880.000000  1320.000000   70.000000    3.200000   \n",
       "99%     65.000000  4880.000000  1500.000000   85.000000    4.000000   \n",
       "99.9%   70.000000  4880.000000  1525.000000   85.000000    4.000000   \n",
       "max     70.000000  4880.000000  1525.000000   85.000000    4.000000   \n",
       "\n",
       "         strength  \n",
       "count  790.000000  \n",
       "mean    27.493671  \n",
       "std    109.695034  \n",
       "min      0.000000  \n",
       "10%      0.000000  \n",
       "20%      0.000000  \n",
       "30%      0.000000  \n",
       "40%      0.000000  \n",
       "50%      0.000000  \n",
       "60%      0.000000  \n",
       "70%      0.000000  \n",
       "80%      0.000000  \n",
       "90%      0.000000  \n",
       "95%    310.000000  \n",
       "99%    600.000000  \n",
       "99.9%  600.000000  \n",
       "max    600.000000  "
      ]
     },
     "execution_count": 14,
     "metadata": {},
     "output_type": "execute_result"
    }
   ],
   "source": [
    "numerical_df.describe([0.1, 0.2, 0.3, 0.4, 0.5, 0.6, 0.7, 0.8, 0.9, 0.95, 0.99, 0.999], )"
   ]
  },
  {
   "cell_type": "code",
   "execution_count": 34,
   "id": "723f2582-7144-413f-836f-dc8c93c0f792",
   "metadata": {},
   "outputs": [
    {
     "data": {
      "text/plain": [
       "3    608\n",
       "2     88\n",
       "5     60\n",
       "U     34\n",
       "Name: target, dtype: int64"
      ]
     },
     "execution_count": 34,
     "metadata": {},
     "output_type": "execute_result"
    }
   ],
   "source": [
    "df.target.value_counts()"
   ]
  },
  {
   "cell_type": "code",
   "execution_count": 15,
   "id": "d79ff9d8-375e-4a09-9763-14d27a707d94",
   "metadata": {},
   "outputs": [
    {
     "data": {
      "text/plain": [
       "0      740\n",
       "310     17\n",
       "500     16\n",
       "600     10\n",
       "350      7\n",
       "Name: strength, dtype: int64"
      ]
     },
     "execution_count": 15,
     "metadata": {},
     "output_type": "execute_result"
    }
   ],
   "source": [
    "numerical_df.strength.value_counts()"
   ]
  },
  {
   "cell_type": "code",
   "execution_count": 35,
   "id": "93ad67b8-aac6-4fb3-a030-997fac372005",
   "metadata": {},
   "outputs": [
    {
     "data": {
      "text/plain": [
       "3    575\n",
       "2     71\n",
       "5     60\n",
       "U     34\n",
       "Name: target, dtype: int64"
      ]
     },
     "execution_count": 35,
     "metadata": {},
     "output_type": "execute_result"
    }
   ],
   "source": [
    "df[df.strength == 0].target.value_counts()"
   ]
  },
  {
   "cell_type": "code",
   "execution_count": 32,
   "id": "f0121e64-a98a-473e-8f46-f9040c0c6e9e",
   "metadata": {},
   "outputs": [
    {
     "data": {
      "text/plain": [
       "3    17\n",
       "Name: target, dtype: int64"
      ]
     },
     "execution_count": 32,
     "metadata": {},
     "output_type": "execute_result"
    }
   ],
   "source": [
    "df[df.strength == 310].target.value_counts()"
   ]
  },
  {
   "cell_type": "code",
   "execution_count": 33,
   "id": "15f336d9-6f24-4c68-a803-55f4a3f649ae",
   "metadata": {},
   "outputs": [
    {
     "data": {
      "text/plain": [
       "3    9\n",
       "2    7\n",
       "Name: target, dtype: int64"
      ]
     },
     "execution_count": 33,
     "metadata": {},
     "output_type": "execute_result"
    }
   ],
   "source": [
    "df[df.strength == 500].target.value_counts()"
   ]
  },
  {
   "cell_type": "code",
   "execution_count": 36,
   "id": "48d194b0-0c10-4aff-8079-8127f6ff393f",
   "metadata": {},
   "outputs": [
    {
     "data": {
      "text/plain": [
       "2    10\n",
       "Name: target, dtype: int64"
      ]
     },
     "execution_count": 36,
     "metadata": {},
     "output_type": "execute_result"
    }
   ],
   "source": [
    "df[df.strength == 600].target.value_counts()"
   ]
  },
  {
   "cell_type": "code",
   "execution_count": 37,
   "id": "db9b3bb4-41ad-48ef-892e-38cc7eea2f29",
   "metadata": {},
   "outputs": [
    {
     "data": {
      "text/plain": [
       "3    7\n",
       "Name: target, dtype: int64"
      ]
     },
     "execution_count": 37,
     "metadata": {},
     "output_type": "execute_result"
    }
   ],
   "source": [
    "df[df.strength == 350].target.value_counts()"
   ]
  },
  {
   "cell_type": "code",
   "execution_count": null,
   "id": "a1a07bbb-e4d7-496b-ad8f-4cb0aefe87f8",
   "metadata": {},
   "outputs": [],
   "source": []
  }
 ],
 "metadata": {
  "kernelspec": {
   "display_name": "Python 3 (ipykernel)",
   "language": "python",
   "name": "python3"
  },
  "language_info": {
   "codemirror_mode": {
    "name": "ipython",
    "version": 3
   },
   "file_extension": ".py",
   "mimetype": "text/x-python",
   "name": "python",
   "nbconvert_exporter": "python",
   "pygments_lexer": "ipython3",
   "version": "3.8.3"
  }
 },
 "nbformat": 4,
 "nbformat_minor": 5
}
