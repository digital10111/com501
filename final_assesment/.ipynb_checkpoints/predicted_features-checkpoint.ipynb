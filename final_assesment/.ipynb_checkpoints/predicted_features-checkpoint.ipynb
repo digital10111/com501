{
 "cells": [
  {
   "cell_type": "code",
   "execution_count": 1,
   "metadata": {},
   "outputs": [],
   "source": [
    "import pandas as pd\n",
    "from matplotlib import pyplot\n",
    "import seaborn as sns\n",
    "import numpy as np\n",
    "from sklearn.metrics.pairwise import cosine_similarity\n",
    "from sklearn.cluster import KMeans"
   ]
  },
  {
   "cell_type": "code",
   "execution_count": 2,
   "metadata": {},
   "outputs": [
    {
     "name": "stdout",
     "output_type": "stream",
     "text": [
      "/Users/karan.verma/com501/final_assesment\n"
     ]
    }
   ],
   "source": [
    "!pwd"
   ]
  },
  {
   "cell_type": "code",
   "execution_count": 24,
   "metadata": {},
   "outputs": [],
   "source": [
    "df = pd.read_csv(\"anneal.data\")\n",
    "df_copy = pd.read_csv(\"anneal.data\")\n",
    "df.replace(\"?\", np.nan, inplace=True)"
   ]
  },
  {
   "cell_type": "code",
   "execution_count": 36,
   "metadata": {},
   "outputs": [
    {
     "data": {
      "text/plain": [
       "Unnamed: 0         0.000000\n",
       "steel              0.000000\n",
       "carbon             0.000000\n",
       "hardness           0.000000\n",
       "condition          0.332911\n",
       "formability        0.348101\n",
       "strength           0.000000\n",
       "surface_quality    0.000000\n",
       "shape              0.000000\n",
       "thick              0.000000\n",
       "width              0.000000\n",
       "len                0.000000\n",
       "bore               0.000000\n",
       "target             0.000000\n",
       "dtype: float64"
      ]
     },
     "execution_count": 36,
     "metadata": {},
     "output_type": "execute_result"
    }
   ],
   "source": [
    "\n",
    "df_predicted = pd.read_csv(\"/Users/karan.verma/com501/final_assesment/rf_surface_quality/train_data_sq.csv\")\n",
    "df_predicted[[\"surface_quality\", \"target\"]].groupby(\"target\").value_counts()\n",
    "#df_predicted.head()\n",
    "missing_means_pred = df_predicted.isnull().mean()\n",
    "missing_means_pred[missing_means_pred<0.7]"
   ]
  },
  {
   "cell_type": "code",
   "execution_count": 35,
   "metadata": {},
   "outputs": [
    {
     "data": {
      "text/html": [
       "<div>\n",
       "<style scoped>\n",
       "    .dataframe tbody tr th:only-of-type {\n",
       "        vertical-align: middle;\n",
       "    }\n",
       "\n",
       "    .dataframe tbody tr th {\n",
       "        vertical-align: top;\n",
       "    }\n",
       "\n",
       "    .dataframe thead th {\n",
       "        text-align: right;\n",
       "    }\n",
       "</style>\n",
       "<table border=\"1\" class=\"dataframe\">\n",
       "  <thead>\n",
       "    <tr style=\"text-align: right;\">\n",
       "      <th></th>\n",
       "      <th>Unnamed: 0</th>\n",
       "      <th>steel</th>\n",
       "      <th>carbon</th>\n",
       "      <th>hardness</th>\n",
       "      <th>condition</th>\n",
       "      <th>formability</th>\n",
       "      <th>strength</th>\n",
       "      <th>surface_quality</th>\n",
       "      <th>shape</th>\n",
       "      <th>thick</th>\n",
       "      <th>width</th>\n",
       "      <th>len</th>\n",
       "      <th>bore</th>\n",
       "      <th>target</th>\n",
       "    </tr>\n",
       "  </thead>\n",
       "  <tbody>\n",
       "    <tr>\n",
       "      <th>0</th>\n",
       "      <td>0</td>\n",
       "      <td>A</td>\n",
       "      <td>8</td>\n",
       "      <td>0</td>\n",
       "      <td>S</td>\n",
       "      <td>NaN</td>\n",
       "      <td>0</td>\n",
       "      <td>G</td>\n",
       "      <td>COIL</td>\n",
       "      <td>0.700</td>\n",
       "      <td>610.0</td>\n",
       "      <td>0</td>\n",
       "      <td>0</td>\n",
       "      <td>3</td>\n",
       "    </tr>\n",
       "    <tr>\n",
       "      <th>1</th>\n",
       "      <td>1</td>\n",
       "      <td>R</td>\n",
       "      <td>0</td>\n",
       "      <td>0</td>\n",
       "      <td>S</td>\n",
       "      <td>2.0</td>\n",
       "      <td>0</td>\n",
       "      <td>E</td>\n",
       "      <td>COIL</td>\n",
       "      <td>3.200</td>\n",
       "      <td>610.0</td>\n",
       "      <td>0</td>\n",
       "      <td>0</td>\n",
       "      <td>3</td>\n",
       "    </tr>\n",
       "    <tr>\n",
       "      <th>2</th>\n",
       "      <td>2</td>\n",
       "      <td>R</td>\n",
       "      <td>0</td>\n",
       "      <td>0</td>\n",
       "      <td>S</td>\n",
       "      <td>2.0</td>\n",
       "      <td>0</td>\n",
       "      <td>E</td>\n",
       "      <td>SHEET</td>\n",
       "      <td>0.700</td>\n",
       "      <td>1300.0</td>\n",
       "      <td>762</td>\n",
       "      <td>0</td>\n",
       "      <td>3</td>\n",
       "    </tr>\n",
       "    <tr>\n",
       "      <th>3</th>\n",
       "      <td>3</td>\n",
       "      <td>A</td>\n",
       "      <td>0</td>\n",
       "      <td>60</td>\n",
       "      <td>NaN</td>\n",
       "      <td>NaN</td>\n",
       "      <td>0</td>\n",
       "      <td>G</td>\n",
       "      <td>COIL</td>\n",
       "      <td>2.801</td>\n",
       "      <td>385.1</td>\n",
       "      <td>0</td>\n",
       "      <td>0</td>\n",
       "      <td>3</td>\n",
       "    </tr>\n",
       "    <tr>\n",
       "      <th>4</th>\n",
       "      <td>4</td>\n",
       "      <td>A</td>\n",
       "      <td>0</td>\n",
       "      <td>60</td>\n",
       "      <td>NaN</td>\n",
       "      <td>NaN</td>\n",
       "      <td>0</td>\n",
       "      <td>G</td>\n",
       "      <td>SHEET</td>\n",
       "      <td>0.801</td>\n",
       "      <td>255.0</td>\n",
       "      <td>269</td>\n",
       "      <td>0</td>\n",
       "      <td>3</td>\n",
       "    </tr>\n",
       "  </tbody>\n",
       "</table>\n",
       "</div>"
      ],
      "text/plain": [
       "   Unnamed: 0 steel  carbon  hardness condition  formability  strength  \\\n",
       "0           0     A       8         0         S          NaN         0   \n",
       "1           1     R       0         0         S          2.0         0   \n",
       "2           2     R       0         0         S          2.0         0   \n",
       "3           3     A       0        60       NaN          NaN         0   \n",
       "4           4     A       0        60       NaN          NaN         0   \n",
       "\n",
       "  surface_quality  shape  thick   width  len  bore target  \n",
       "0               G   COIL  0.700   610.0    0     0      3  \n",
       "1               E   COIL  3.200   610.0    0     0      3  \n",
       "2               E  SHEET  0.700  1300.0  762     0      3  \n",
       "3               G   COIL  2.801   385.1    0     0      3  \n",
       "4               G  SHEET  0.801   255.0  269     0      3  "
      ]
     },
     "execution_count": 35,
     "metadata": {},
     "output_type": "execute_result"
    }
   ],
   "source": [
    "df_predicted.head()"
   ]
  },
  {
   "cell_type": "code",
   "execution_count": 4,
   "metadata": {},
   "outputs": [
    {
     "data": {
      "text/html": [
       "<div>\n",
       "<style scoped>\n",
       "    .dataframe tbody tr th:only-of-type {\n",
       "        vertical-align: middle;\n",
       "    }\n",
       "\n",
       "    .dataframe tbody tr th {\n",
       "        vertical-align: top;\n",
       "    }\n",
       "\n",
       "    .dataframe thead th {\n",
       "        text-align: right;\n",
       "    }\n",
       "</style>\n",
       "<table border=\"1\" class=\"dataframe\">\n",
       "  <thead>\n",
       "    <tr style=\"text-align: right;\">\n",
       "      <th></th>\n",
       "      <th>family</th>\n",
       "      <th>product_type</th>\n",
       "      <th>steel</th>\n",
       "      <th>carbon</th>\n",
       "      <th>hardness</th>\n",
       "      <th>temper_rolling</th>\n",
       "      <th>condition</th>\n",
       "      <th>formability</th>\n",
       "      <th>strength</th>\n",
       "      <th>non_ageing</th>\n",
       "      <th>...</th>\n",
       "      <th>s</th>\n",
       "      <th>p</th>\n",
       "      <th>shape</th>\n",
       "      <th>thick</th>\n",
       "      <th>width</th>\n",
       "      <th>len</th>\n",
       "      <th>oil</th>\n",
       "      <th>bore</th>\n",
       "      <th>packing</th>\n",
       "      <th>target</th>\n",
       "    </tr>\n",
       "  </thead>\n",
       "  <tbody>\n",
       "    <tr>\n",
       "      <th>0</th>\n",
       "      <td>NaN</td>\n",
       "      <td>C</td>\n",
       "      <td>A</td>\n",
       "      <td>8</td>\n",
       "      <td>0</td>\n",
       "      <td>NaN</td>\n",
       "      <td>S</td>\n",
       "      <td>NaN</td>\n",
       "      <td>0</td>\n",
       "      <td>NaN</td>\n",
       "      <td>...</td>\n",
       "      <td>NaN</td>\n",
       "      <td>NaN</td>\n",
       "      <td>COIL</td>\n",
       "      <td>0.700</td>\n",
       "      <td>610.0</td>\n",
       "      <td>0</td>\n",
       "      <td>NaN</td>\n",
       "      <td>0</td>\n",
       "      <td>NaN</td>\n",
       "      <td>3</td>\n",
       "    </tr>\n",
       "    <tr>\n",
       "      <th>1</th>\n",
       "      <td>NaN</td>\n",
       "      <td>C</td>\n",
       "      <td>R</td>\n",
       "      <td>0</td>\n",
       "      <td>0</td>\n",
       "      <td>NaN</td>\n",
       "      <td>S</td>\n",
       "      <td>2</td>\n",
       "      <td>0</td>\n",
       "      <td>NaN</td>\n",
       "      <td>...</td>\n",
       "      <td>NaN</td>\n",
       "      <td>NaN</td>\n",
       "      <td>COIL</td>\n",
       "      <td>3.200</td>\n",
       "      <td>610.0</td>\n",
       "      <td>0</td>\n",
       "      <td>NaN</td>\n",
       "      <td>0</td>\n",
       "      <td>NaN</td>\n",
       "      <td>3</td>\n",
       "    </tr>\n",
       "    <tr>\n",
       "      <th>2</th>\n",
       "      <td>NaN</td>\n",
       "      <td>C</td>\n",
       "      <td>R</td>\n",
       "      <td>0</td>\n",
       "      <td>0</td>\n",
       "      <td>NaN</td>\n",
       "      <td>S</td>\n",
       "      <td>2</td>\n",
       "      <td>0</td>\n",
       "      <td>NaN</td>\n",
       "      <td>...</td>\n",
       "      <td>NaN</td>\n",
       "      <td>NaN</td>\n",
       "      <td>SHEET</td>\n",
       "      <td>0.700</td>\n",
       "      <td>1300.0</td>\n",
       "      <td>762</td>\n",
       "      <td>NaN</td>\n",
       "      <td>0</td>\n",
       "      <td>NaN</td>\n",
       "      <td>3</td>\n",
       "    </tr>\n",
       "    <tr>\n",
       "      <th>3</th>\n",
       "      <td>NaN</td>\n",
       "      <td>C</td>\n",
       "      <td>A</td>\n",
       "      <td>0</td>\n",
       "      <td>60</td>\n",
       "      <td>T</td>\n",
       "      <td>NaN</td>\n",
       "      <td>NaN</td>\n",
       "      <td>0</td>\n",
       "      <td>NaN</td>\n",
       "      <td>...</td>\n",
       "      <td>NaN</td>\n",
       "      <td>NaN</td>\n",
       "      <td>COIL</td>\n",
       "      <td>2.801</td>\n",
       "      <td>385.1</td>\n",
       "      <td>0</td>\n",
       "      <td>NaN</td>\n",
       "      <td>0</td>\n",
       "      <td>NaN</td>\n",
       "      <td>3</td>\n",
       "    </tr>\n",
       "    <tr>\n",
       "      <th>4</th>\n",
       "      <td>NaN</td>\n",
       "      <td>C</td>\n",
       "      <td>A</td>\n",
       "      <td>0</td>\n",
       "      <td>60</td>\n",
       "      <td>T</td>\n",
       "      <td>NaN</td>\n",
       "      <td>NaN</td>\n",
       "      <td>0</td>\n",
       "      <td>NaN</td>\n",
       "      <td>...</td>\n",
       "      <td>NaN</td>\n",
       "      <td>NaN</td>\n",
       "      <td>SHEET</td>\n",
       "      <td>0.801</td>\n",
       "      <td>255.0</td>\n",
       "      <td>269</td>\n",
       "      <td>NaN</td>\n",
       "      <td>0</td>\n",
       "      <td>NaN</td>\n",
       "      <td>3</td>\n",
       "    </tr>\n",
       "  </tbody>\n",
       "</table>\n",
       "<p>5 rows × 39 columns</p>\n",
       "</div>"
      ],
      "text/plain": [
       "  family product_type steel  carbon  hardness temper_rolling condition  \\\n",
       "0    NaN            C     A       8         0            NaN         S   \n",
       "1    NaN            C     R       0         0            NaN         S   \n",
       "2    NaN            C     R       0         0            NaN         S   \n",
       "3    NaN            C     A       0        60              T       NaN   \n",
       "4    NaN            C     A       0        60              T       NaN   \n",
       "\n",
       "  formability  strength non_ageing  ...   s   p  shape  thick   width  len  \\\n",
       "0         NaN         0        NaN  ... NaN NaN   COIL  0.700   610.0    0   \n",
       "1           2         0        NaN  ... NaN NaN   COIL  3.200   610.0    0   \n",
       "2           2         0        NaN  ... NaN NaN  SHEET  0.700  1300.0  762   \n",
       "3         NaN         0        NaN  ... NaN NaN   COIL  2.801   385.1    0   \n",
       "4         NaN         0        NaN  ... NaN NaN  SHEET  0.801   255.0  269   \n",
       "\n",
       "   oil bore  packing target  \n",
       "0  NaN    0      NaN      3  \n",
       "1  NaN    0      NaN      3  \n",
       "2  NaN    0      NaN      3  \n",
       "3  NaN    0      NaN      3  \n",
       "4  NaN    0      NaN      3  \n",
       "\n",
       "[5 rows x 39 columns]"
      ]
     },
     "execution_count": 4,
     "metadata": {},
     "output_type": "execute_result"
    }
   ],
   "source": [
    "df.head()"
   ]
  },
  {
   "cell_type": "code",
   "execution_count": 5,
   "metadata": {},
   "outputs": [],
   "source": [
    "df.loc[df.target=='U','condition'] = df.loc[df.target=='U','condition'].fillna(df[\"condition\"].mode().iloc[0])\n",
    "df.loc[df.target=='1','condition'] = df.loc[df.target=='1','condition'].fillna(df[\"condition\"].mode().iloc[0])\n",
    "df['condition']=df.groupby('target')['condition'].apply(lambda x: x.fillna(x.mode().iat[0]))\n",
    "\n"
   ]
  },
  {
   "cell_type": "code",
   "execution_count": 14,
   "metadata": {},
   "outputs": [
    {
     "data": {
      "text/plain": [
       "{'1': 'S', '2': 'S', '3': 'S', '5': 'A', 'U': 'S'}"
      ]
     },
     "execution_count": 14,
     "metadata": {},
     "output_type": "execute_result"
    }
   ],
   "source": [
    "df.groupby('target')['condition'].apply(lambda x: x.mode().iat[0]).to_dict()"
   ]
  },
  {
   "cell_type": "code",
   "execution_count": 22,
   "metadata": {},
   "outputs": [
    {
     "data": {
      "text/plain": [
       "product_type       0.000000\n",
       "steel              0.087719\n",
       "carbon             0.000000\n",
       "hardness           0.000000\n",
       "condition          0.339599\n",
       "formability        0.354637\n",
       "strength           0.000000\n",
       "surface_quality    0.271930\n",
       "shape              0.000000\n",
       "thick              0.000000\n",
       "width              0.000000\n",
       "len                0.000000\n",
       "bore               0.000000\n",
       "target             0.000000\n",
       "dtype: float64"
      ]
     },
     "execution_count": 22,
     "metadata": {},
     "output_type": "execute_result"
    }
   ],
   "source": [
    "missing_means = df.isnull().mean()\n",
    "missing_means[missing_means<0.7]"
   ]
  },
  {
   "cell_type": "code",
   "execution_count": 23,
   "metadata": {},
   "outputs": [
    {
     "data": {
      "text/plain": [
       "Index(['product_type', 'steel', 'carbon', 'hardness', 'condition',\n",
       "       'formability', 'strength', 'surface_quality', 'shape', 'thick', 'width',\n",
       "       'len', 'bore', 'target'],\n",
       "      dtype='object')"
      ]
     },
     "execution_count": 23,
     "metadata": {},
     "output_type": "execute_result"
    }
   ],
   "source": [
    "df.columns[df.isnull().mean() < 0.36]"
   ]
  },
  {
   "cell_type": "markdown",
   "metadata": {},
   "source": [
    "## Impute condition attribute for target 2, 3, 5, U"
   ]
  },
  {
   "cell_type": "code",
   "execution_count": 25,
   "metadata": {},
   "outputs": [
    {
     "data": {
      "text/plain": [
       "target  condition\n",
       "1       ?              8\n",
       "2       S             71\n",
       "        ?             17\n",
       "3       S            422\n",
       "        ?            169\n",
       "        A             17\n",
       "5       ?             43\n",
       "        A             15\n",
       "        S              2\n",
       "U       ?             34\n",
       "dtype: int64"
      ]
     },
     "execution_count": 25,
     "metadata": {},
     "output_type": "execute_result"
    }
   ],
   "source": [
    "df_copy[[\"condition\", \"target\"]].groupby(\"target\").value_counts()"
   ]
  },
  {
   "cell_type": "code",
   "execution_count": 8,
   "metadata": {},
   "outputs": [
    {
     "data": {
      "text/plain": [
       "target  condition\n",
       "1       S              8\n",
       "2       S             88\n",
       "3       S            591\n",
       "        A             17\n",
       "5       A             58\n",
       "        S              2\n",
       "U       S             34\n",
       "dtype: int64"
      ]
     },
     "execution_count": 8,
     "metadata": {},
     "output_type": "execute_result"
    }
   ],
   "source": [
    "df[[\"condition\", \"target\"]].groupby(\"target\").value_counts()"
   ]
  },
  {
   "cell_type": "code",
   "execution_count": 9,
   "metadata": {},
   "outputs": [],
   "source": [
    "df.loc[df.target=='5','surface_quality'] = df.loc[df.target=='5','surface_quality'].fillna(df[\"surface_quality\"].mode().iloc[0])\n",
    "df.loc[df.target=='1','surface_quality'] = df.loc[df.target=='1','surface_quality'].fillna(df[\"surface_quality\"].mode().iloc[0])\n",
    "df['surface_quality']=df.groupby('target')['surface_quality'].apply(lambda x: x.fillna(x.mode().iat[0]))"
   ]
  },
  {
   "cell_type": "code",
   "execution_count": 30,
   "metadata": {},
   "outputs": [
    {
     "data": {
      "text/plain": [
       "target  surface_quality\n",
       "2       E                   66\n",
       "        G                   22\n",
       "3       E                  324\n",
       "        G                  181\n",
       "        F                   53\n",
       "        D                   50\n",
       "5       E                   38\n",
       "        F                   22\n",
       "U       G                   23\n",
       "        E                   11\n",
       "dtype: int64"
      ]
     },
     "execution_count": 30,
     "metadata": {},
     "output_type": "execute_result"
    }
   ],
   "source": [
    "df_predicted[[\"surface_quality\", \"target\"]].groupby(\"target\").value_counts()"
   ]
  },
  {
   "cell_type": "code",
   "execution_count": 10,
   "metadata": {},
   "outputs": [
    {
     "data": {
      "text/plain": [
       "target  surface_quality\n",
       "1       ?                    8\n",
       "2       ?                   79\n",
       "        G                    9\n",
       "3       E                  267\n",
       "        G                  168\n",
       "        ?                   70\n",
       "        F                   53\n",
       "        D                   50\n",
       "5       ?                   60\n",
       "U       G                   23\n",
       "        E                   11\n",
       "dtype: int64"
      ]
     },
     "execution_count": 10,
     "metadata": {},
     "output_type": "execute_result"
    }
   ],
   "source": [
    "df_copy[[\"surface_quality\", \"target\"]].groupby(\"target\").value_counts()"
   ]
  },
  {
   "cell_type": "code",
   "execution_count": 11,
   "metadata": {},
   "outputs": [
    {
     "data": {
      "text/plain": [
       "target  surface_quality\n",
       "1       E                    8\n",
       "2       G                   88\n",
       "3       E                  337\n",
       "        G                  168\n",
       "        F                   53\n",
       "        D                   50\n",
       "5       E                   60\n",
       "U       G                   23\n",
       "        E                   11\n",
       "dtype: int64"
      ]
     },
     "execution_count": 11,
     "metadata": {},
     "output_type": "execute_result"
    }
   ],
   "source": [
    "df[[\"surface_quality\", \"target\"]].groupby(\"target\").value_counts()"
   ]
  },
  {
   "cell_type": "code",
   "execution_count": 31,
   "metadata": {},
   "outputs": [
    {
     "data": {
      "text/plain": [
       "target  surface_quality\n",
       "2       E                   66\n",
       "        G                   22\n",
       "3       E                  324\n",
       "        G                  181\n",
       "        F                   53\n",
       "        D                   50\n",
       "5       E                   38\n",
       "        F                   22\n",
       "U       G                   23\n",
       "        E                   11\n",
       "dtype: int64"
      ]
     },
     "execution_count": 31,
     "metadata": {},
     "output_type": "execute_result"
    }
   ],
   "source": [
    "df_predicted[[\"surface_quality\", \"target\"]].groupby(\"target\").value_counts()"
   ]
  },
  {
   "cell_type": "code",
   "execution_count": 15,
   "metadata": {},
   "outputs": [
    {
     "data": {
      "text/plain": [
       "target  formability\n",
       "1       ?                8\n",
       "2       2               48\n",
       "        3               23\n",
       "        ?               17\n",
       "3       2              290\n",
       "        ?              224\n",
       "        3               60\n",
       "        1               25\n",
       "        5                9\n",
       "5       3               45\n",
       "        1               15\n",
       "U       ?               34\n",
       "dtype: int64"
      ]
     },
     "execution_count": 15,
     "metadata": {},
     "output_type": "execute_result"
    }
   ],
   "source": [
    "df_copy[[\"formability\", \"target\"]].groupby(\"target\").value_counts()"
   ]
  },
  {
   "cell_type": "code",
   "execution_count": null,
   "metadata": {},
   "outputs": [],
   "source": [
    "usefull_df = df[df.columns[df.isnull().mean() < 0.25]]"
   ]
  },
  {
   "cell_type": "code",
   "execution_count": null,
   "metadata": {},
   "outputs": [],
   "source": [
    "usefull_df.target.value_counts()"
   ]
  },
  {
   "cell_type": "code",
   "execution_count": null,
   "metadata": {},
   "outputs": [],
   "source": [
    "usefull_df.target.unique()"
   ]
  },
  {
   "cell_type": "code",
   "execution_count": null,
   "metadata": {},
   "outputs": [],
   "source": [
    "fig, axs = pyplot.subplots(1, 8, figsize=(30, 8))\n",
    "\n",
    "for i, value in enumerate(usefull_df.steel.unique()):\n",
    "    sns.histplot(data=usefull_df[usefull_df.steel == value], x=\"steel\", hue=\"target\",  multiple=\"dodge\", ax=axs[i])\n",
    "    axs[i].title.set_text(value)\n",
    "fig.tight_layout()"
   ]
  },
  {
   "cell_type": "code",
   "execution_count": null,
   "metadata": {},
   "outputs": [],
   "source": [
    "usefull_df[\"steel\"] = usefull_df[[\"steel\", \"target\"]].groupby(\"target\").transform(lambda x: x.fillna(x.mode()))"
   ]
  },
  {
   "cell_type": "code",
   "execution_count": null,
   "metadata": {},
   "outputs": [],
   "source": [
    "fig, axs = pyplot.subplots(1, 8, figsize=(30, 8))\n",
    "\n",
    "for i, value in enumerate(usefull_df.steel.unique()):\n",
    "    sns.histplot(data=usefull_df[usefull_df.steel == value], x=\"steel\", hue=\"target\",  multiple=\"dodge\", ax=axs[i])\n",
    "    axs[i].title.set_text(value)\n",
    "fig.tight_layout()"
   ]
  },
  {
   "cell_type": "code",
   "execution_count": null,
   "metadata": {},
   "outputs": [],
   "source": [
    "usefull_df.shape"
   ]
  },
  {
   "cell_type": "code",
   "execution_count": null,
   "metadata": {},
   "outputs": [],
   "source": [
    "# target 3 vs all."
   ]
  },
  {
   "cell_type": "code",
   "execution_count": null,
   "metadata": {},
   "outputs": [],
   "source": [
    "usefull_df3 = usefull_df.copy()"
   ]
  },
  {
   "cell_type": "code",
   "execution_count": null,
   "metadata": {},
   "outputs": [],
   "source": [
    "usefull_df3[\"target\"] = usefull_df3.target.apply(lambda x: 1 if x == \"3\" else 0)"
   ]
  },
  {
   "cell_type": "code",
   "execution_count": null,
   "metadata": {},
   "outputs": [],
   "source": [
    "usefull_df3[\"target\"].value_counts()"
   ]
  },
  {
   "cell_type": "code",
   "execution_count": null,
   "metadata": {},
   "outputs": [],
   "source": [
    "usefull_df3"
   ]
  },
  {
   "cell_type": "code",
   "execution_count": null,
   "metadata": {},
   "outputs": [],
   "source": [
    "sns.histplot(data=usefull_df3[\"target\"].value_counts())"
   ]
  },
  {
   "cell_type": "code",
   "execution_count": null,
   "metadata": {},
   "outputs": [],
   "source": [
    "usefull_df3.groupby(\"target\").carbon.value_counts()"
   ]
  },
  {
   "cell_type": "code",
   "execution_count": null,
   "metadata": {},
   "outputs": [],
   "source": [
    "sorted(usefull_df.carbon.unique())"
   ]
  },
  {
   "cell_type": "code",
   "execution_count": null,
   "metadata": {},
   "outputs": [],
   "source": [
    "usefull_df3.groupby(\"target\").hardness.value_counts()"
   ]
  },
  {
   "cell_type": "code",
   "execution_count": null,
   "metadata": {},
   "outputs": [],
   "source": [
    "\n",
    "usefull_df3.groupby(\"target\").strength.value_counts()"
   ]
  },
  {
   "cell_type": "code",
   "execution_count": null,
   "metadata": {},
   "outputs": [],
   "source": [
    "usefull_df3.groupby(\"target\").len.value_counts()"
   ]
  },
  {
   "cell_type": "code",
   "execution_count": null,
   "metadata": {},
   "outputs": [],
   "source": [
    "sns.kdeplot(usefull_df3.carbon, hue=usefull_df3.target)"
   ]
  },
  {
   "cell_type": "code",
   "execution_count": null,
   "metadata": {},
   "outputs": [],
   "source": [
    "sns.boxplot(usefull_df3.carbon[usefull_df3.target==1])"
   ]
  },
  {
   "cell_type": "code",
   "execution_count": null,
   "metadata": {},
   "outputs": [],
   "source": []
  }
 ],
 "metadata": {
  "kernelspec": {
   "display_name": "Python 3 (ipykernel)",
   "language": "python",
   "name": "python3"
  },
  "language_info": {
   "codemirror_mode": {
    "name": "ipython",
    "version": 3
   },
   "file_extension": ".py",
   "mimetype": "text/x-python",
   "name": "python",
   "nbconvert_exporter": "python",
   "pygments_lexer": "ipython3",
   "version": "3.8.3"
  }
 },
 "nbformat": 4,
 "nbformat_minor": 4
}
