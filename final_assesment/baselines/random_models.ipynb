{
 "cells": [
  {
   "cell_type": "code",
   "execution_count": 36,
   "id": "7b076e99-39ab-42ee-9095-b91516743f3c",
   "metadata": {},
   "outputs": [],
   "source": [
    "import pandas as pd\n",
    "from matplotlib import pyplot\n",
    "import seaborn as sns\n",
    "import numpy as np\n",
    "import random\n",
    "from sklearn.model_selection import train_test_split\n",
    "from sklearn.metrics import accuracy_score\n",
    "from sklearn.metrics import classification_report"
   ]
  },
  {
   "cell_type": "code",
   "execution_count": 28,
   "id": "9e68360b-6934-4dbe-a0b9-1237d59d31b6",
   "metadata": {},
   "outputs": [],
   "source": [
    "df = pd.read_csv(\"../anneal.data\")\n",
    "df.replace(\"?\", np.nan, inplace=True)"
   ]
  },
  {
   "cell_type": "code",
   "execution_count": 29,
   "id": "71d3f73e-dcb5-47b0-99c6-ee15885c131c",
   "metadata": {},
   "outputs": [],
   "source": [
    "df = df[df.columns[df.isnull().mean() < 0.25]]\n",
    "df = df.drop(labels=[\"product_type\"], axis=1)\n",
    "df = df[df.target != \"1\"]"
   ]
  },
  {
   "cell_type": "code",
   "execution_count": 30,
   "id": "b537be6c-7f6c-4243-9149-30da208f2a07",
   "metadata": {},
   "outputs": [],
   "source": [
    "targets = df.target.unique().tolist()"
   ]
  },
  {
   "cell_type": "code",
   "execution_count": 40,
   "id": "0a822946-bc5b-4ab0-90e1-826a5d100b73",
   "metadata": {},
   "outputs": [
    {
     "data": {
      "text/plain": [
       "3    608\n",
       "2     88\n",
       "5     60\n",
       "U     34\n",
       "Name: target, dtype: int64"
      ]
     },
     "execution_count": 40,
     "metadata": {},
     "output_type": "execute_result"
    }
   ],
   "source": [
    "df.target.value_counts()"
   ]
  },
  {
   "cell_type": "code",
   "execution_count": 31,
   "id": "ca4f28ab-8c26-45ff-b879-1dccf71de2e3",
   "metadata": {},
   "outputs": [],
   "source": [
    "y = df.target\n",
    "X = df.drop(labels=[\"target\"], axis=1)\n",
    "X_train, X_test, y_train, y_test = train_test_split(X, y, test_size=0.2, random_state=42, stratify=y)"
   ]
  },
  {
   "cell_type": "code",
   "execution_count": 64,
   "id": "576380a9-97d1-47dc-a6fd-320bd932bc72",
   "metadata": {},
   "outputs": [],
   "source": [
    "target_train = df.target.to_list()"
   ]
  },
  {
   "cell_type": "code",
   "execution_count": 52,
   "id": "25b94897-c3c8-4d9e-a736-cf280c45f018",
   "metadata": {},
   "outputs": [
    {
     "name": "stdout",
     "output_type": "stream",
     "text": [
      "              precision    recall  f1-score   support\n",
      "\n",
      "           2       0.11      0.29      0.16        17\n",
      "           3       0.78      0.23      0.35       122\n",
      "           5       0.11      0.33      0.16        12\n",
      "           U       0.10      0.57      0.17         7\n",
      "\n",
      "    accuracy                           0.26       158\n",
      "   macro avg       0.27      0.36      0.21       158\n",
      "weighted avg       0.63      0.26      0.31       158\n",
      "\n"
     ]
    }
   ],
   "source": [
    "random_prediction = [random.choice(targets) for _ in y_test]\n",
    "print(classification_report(y_test, random_prediction))"
   ]
  },
  {
   "cell_type": "code",
   "execution_count": 63,
   "id": "b3936052-f85e-42e6-8121-912a3959c3e8",
   "metadata": {},
   "outputs": [
    {
     "name": "stdout",
     "output_type": "stream",
     "text": [
      "              precision    recall  f1-score   support\n",
      "\n",
      "           2       0.18      0.24      0.21        17\n",
      "           3       0.81      0.77      0.79       122\n",
      "           5       0.00      0.00      0.00        12\n",
      "           U       0.11      0.14      0.12         7\n",
      "\n",
      "    accuracy                           0.63       158\n",
      "   macro avg       0.28      0.29      0.28       158\n",
      "weighted avg       0.65      0.63      0.64       158\n",
      "\n"
     ]
    }
   ],
   "source": [
    "stratified_prediction = [random.choice(target_train) for _ in y_test]\n",
    "print(classification_report(y_test, stratified_prediction))"
   ]
  },
  {
   "cell_type": "code",
   "execution_count": null,
   "id": "61621376-35bf-412c-9589-b10b1057c5b6",
   "metadata": {},
   "outputs": [],
   "source": []
  }
 ],
 "metadata": {
  "kernelspec": {
   "display_name": "Python 3 (ipykernel)",
   "language": "python",
   "name": "python3"
  },
  "language_info": {
   "codemirror_mode": {
    "name": "ipython",
    "version": 3
   },
   "file_extension": ".py",
   "mimetype": "text/x-python",
   "name": "python",
   "nbconvert_exporter": "python",
   "pygments_lexer": "ipython3",
   "version": "3.8.3"
  }
 },
 "nbformat": 4,
 "nbformat_minor": 5
}
