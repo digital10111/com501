{
 "cells": [
  {
   "cell_type": "markdown",
   "metadata": {},
   "source": [
    "# Least Squares solution for a simple 2d regression problem"
   ]
  },
  {
   "cell_type": "markdown",
   "metadata": {},
   "source": [
    "In this exercise, you will see how we can implement the least squares and apply it on synthetic data. The benefit is that we will see how the different coefficients used to create the data will surface as the weights of the least squares. In addition we will see how the noise will affect the exactness of the final solution that the least squares can produce.\n",
    "\n",
    "\n",
    "**Learning Outcomes**\n",
    "\n",
    "1. Implement a least squares solution using numpy only\n",
    "2. Apply the implemented solution on a synthetic data and examine the resultant weights\n"
   ]
  },
  {
   "cell_type": "code",
   "execution_count": 3,
   "metadata": {},
   "outputs": [],
   "source": [
    "import numpy as np\n",
    "from numpy.linalg import inv  # NumPy Linear algebra library\n",
    "import matplotlib.pyplot as plt\n",
    "import pandas as pd\n",
    "%matplotlib inline"
   ]
  },
  {
   "cell_type": "code",
   "execution_count": 4,
   "metadata": {},
   "outputs": [],
   "source": [
    "# generate the data\n",
    "def get_t( X, w_):\n",
    "    w_ = np.array(w_)\n",
    "    return  w_.dot(X)\n",
    "    \n",
    "def getData(w_, noise=0, n = 1000 ):\n",
    "    x1 = np.linspace(-10, 10, num = n)           # sampling uniformly from the x axis\n",
    "    x2 = np.random.normal(x1,5)                  # same but some noise to avoid matrix X^-1 singularity\n",
    "    X  = np.array([np.ones(len(x1)), x1, x2])    # design matrix here it is a transpose of what we have studied because it makes implementaiton slightly less cluttered\n",
    "    t  = get_t(X, w_)                            # get the target value\n",
    "    t  = np.random.normal(t,noise)               # add noise to the target to see the effect on the MSE\n",
    "    return X,t\n",
    "\n"
   ]
  },
  {
   "cell_type": "markdown",
   "metadata": {},
   "source": [
    "We will solve for both cases (with and without basis)"
   ]
  },
  {
   "cell_type": "markdown",
   "metadata": {},
   "source": [
    "## Generate the data first"
   ]
  },
  {
   "cell_type": "code",
   "execution_count": 5,
   "metadata": {},
   "outputs": [],
   "source": [
    "w_    = [10, 2, 5]  # original linear model weights to generate the data from and to compare later with w\n",
    "noise = 5\n",
    "X,t   = getData(w_, noise=noise, n=9) # try with and without noise and with and without basis\n"
   ]
  },
  {
   "cell_type": "code",
   "execution_count": 4,
   "metadata": {},
   "outputs": [],
   "source": [
    "#X1,t1 = X,t  #store\n",
    "#X,t = X1,t1  #retrieve"
   ]
  },
  {
   "cell_type": "markdown",
   "metadata": {},
   "source": [
    "## Least Squares Solution"
   ]
  },
  {
   "cell_type": "code",
   "execution_count": 5,
   "metadata": {},
   "outputs": [],
   "source": [
    "def getLS(X,t):                       # Least Squares Solution!\n",
    "    Xt = X.dot(t)\n",
    "    XX = inv(X.dot(X.T))\n",
    "        \n",
    "    XX = np.round(XX,4)\n",
    "    Xt = np.round(Xt,2)\n",
    "    \n",
    "    w  = XX.dot(Xt)\n",
    "    w  = np.round(w,2)\n",
    "    \n",
    "    #print(XX*100)\n",
    "    #print(Xt)\n",
    "    #print(w)\n",
    "    \n",
    "    return w"
   ]
  },
  {
   "cell_type": "markdown",
   "metadata": {},
   "source": [
    "## Now apply the Least Squares on the Generated Dataset"
   ]
  },
  {
   "cell_type": "markdown",
   "metadata": {},
   "source": [
    "Now let us try it ......................!"
   ]
  },
  {
   "cell_type": "code",
   "execution_count": 6,
   "metadata": {
    "scrolled": true
   },
   "outputs": [],
   "source": [
    "def applyLST(X,t):    \n",
    "    w   = getLS(X,t)                            # solve using least squares\n",
    "    y   = get_t(X, w)                           # predict using the solution\n",
    "   \n",
    "    RMSE = np.sqrt(((t - y)**2).sum()/len(t))   # get the Sqrt(Mean Sum of Squared Error)\n",
    "    return y, w, RMSE\n",
    "\n",
    "y, w, RMSE = applyLST(X,t)\n"
   ]
  },
  {
   "cell_type": "markdown",
   "metadata": {},
   "source": [
    "Now compare between the fitted model weights and the original weights used to create the dataset (remember we added noise so there is no prefect solution)"
   ]
  },
  {
   "cell_type": "code",
   "execution_count": 7,
   "metadata": {},
   "outputs": [
    {
     "name": "stdout",
     "output_type": "stream",
     "text": [
      "[11.63  2.1   4.83]\n",
      "[10, 2, 5]\n",
      "RMSE 5.01\n",
      "5\n"
     ]
    }
   ],
   "source": [
    "print(w)\n",
    "print(w_)\n",
    "print('RMSE',np.round(RMSE,2))\n",
    "print(noise)                                # note how close RMSE is to the noise (when data is enough and for reasonable noise values < 100)\n",
    "                                            # there is a reason for this, see the last lesson in the unit"
   ]
  },
  {
   "cell_type": "markdown",
   "metadata": {},
   "source": [
    "## Visualise \n",
    "Both attributes x1 and x2 in 2d, we may want to create a better visualisation by plotting in 3d (x1, x2, y)"
   ]
  },
  {
   "cell_type": "markdown",
   "metadata": {},
   "source": [
    "Below we can realise that although Least squares is an exact solution (for the given data), the two lines may differ due to the added noise and not due to approximation."
   ]
  },
  {
   "cell_type": "code",
   "execution_count": 7,
   "metadata": {},
   "outputs": [
    {
     "data": {
      "text/plain": [
       "array([1., 1., 1., 1., 1., 1., 1., 1., 1.])"
      ]
     },
     "execution_count": 7,
     "metadata": {},
     "output_type": "execute_result"
    }
   ],
   "source": [
    "X[0]"
   ]
  },
  {
   "cell_type": "code",
   "execution_count": 8,
   "metadata": {},
   "outputs": [
    {
     "data": {
      "text/plain": [
       "<matplotlib.legend.Legend at 0x295886815e0>"
      ]
     },
     "execution_count": 8,
     "metadata": {},
     "output_type": "execute_result"
    },
    {
     "data": {
      "image/png": "[encoded data removed]",
      "text/plain": [
       "<Figure size 432x288 with 1 Axes>"
      ]
     },
     "metadata": {
      "needs_background": "light"
     },
     "output_type": "display_data"
    }
   ],
   "source": [
    "plt.plot(X[1],t,'.', label='x1 vs t')\n",
    "plt.plot(X[2],t,'x', label='x2 vs t')\n",
    "x1 = np.linspace(-20, 10, num = 9)\n",
    "X1 = np.array([np.ones(len(x1)), x1, x1])\n",
    "plt.plot(x1, get_t( X1, w_),'-' , label='Data generation Model')\n",
    "plt.plot(x1, get_t( X1, w ),'--', label='Least Squares Solution')\n",
    "plt.legend()\n"
   ]
  },
  {
   "cell_type": "markdown",
   "metadata": {},
   "source": [
    "Create a data frame and store the dataset in a csv file"
   ]
  },
  {
   "cell_type": "code",
   "execution_count": 9,
   "metadata": {
    "scrolled": true
   },
   "outputs": [
    {
     "name": "stdout",
     "output_type": "stream",
     "text": [
      "    x0    x1     x2      t      y\n",
      "0  1.0 -10.0 -13.24 -71.85 -73.30\n",
      "1  1.0  -7.5 -15.03 -83.74 -76.73\n",
      "2  1.0  -5.0 -10.13 -51.29 -47.77\n",
      "3  1.0  -2.5   5.72  26.49  34.00\n",
      "4  1.0   0.0  -3.27  -4.63  -4.16\n",
      "5  1.0   2.5  11.00  79.03  70.03\n",
      "6  1.0   5.0   9.18  68.27  66.46\n",
      "7  1.0   7.5   3.04  39.72  42.04\n",
      "8  1.0  10.0   2.78  50.09  46.08\n"
     ]
    }
   ],
   "source": [
    "data = np.vstack((X,t,y)).T\n",
    "df = pd.DataFrame(np.round(data,2), columns=['x0','x1','x2', 't', 'y'])\n",
    "df.to_csv('simpleData.csv')\n",
    "print(df)# [50:55])"
   ]
  },
  {
   "cell_type": "code",
   "execution_count": null,
   "metadata": {},
   "outputs": [],
   "source": []
  }
 ],
 "metadata": {
  "kernelspec": {
   "display_name": "Python 3 (ipykernel)",
   "language": "python",
   "name": "python3"
  },
  "language_info": {
   "codemirror_mode": {
    "name": "ipython",
    "version": 3
   },
   "file_extension": ".py",
   "mimetype": "text/x-python",
   "name": "python",
   "nbconvert_exporter": "python",
   "pygments_lexer": "ipython3",
   "version": "3.8.3"
  }
 },
 "nbformat": 4,
 "nbformat_minor": 4
}
