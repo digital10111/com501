{
 "cells": [
  {
   "cell_type": "markdown",
   "metadata": {},
   "source": [
    "# Comprehensive Example of Applying Several Classifiers on a Real Dataset\n",
    "\n",
    "\n",
    "**Learning Outcomes**\n",
    "1. Gain insight by visualising the dataset.\n",
    "2. Prepare the dataset for the classification task. \n",
    "3. Fit several models based on the training set to classify the survival of a person on the titanic ship. \n",
    "4. Compare between the different models performance on the test set.\n",
    "\n",
    "We have seen earlier, in unit 1, how to prepare, visualise and filter the titanic dataset. While in units 2, 3, 4 and 5 we have seen several techniques that can fit(train) a model to predict the class of an instance given a training dataset. We have also seen how to split the data in order to come up with an unbiased estimation of the generalisation ability of the classifier to predict unseen instances.\n",
    "\n",
    "In this exercise you will perform a classification task to predict the survival of people from the titanic dataset.\n",
    "You will apply several of the aforementioned concepts in order to prepare, visualise and split the data appropriately. You will then fit several models and compare between them to pick the one that performs best on the given dataset.\n",
    "This exercise is useful for your project, but bear in mind that it will not address all aspects of the project.\n"
   ]
  },
  {
   "cell_type": "code",
   "execution_count": 5,
   "metadata": {},
   "outputs": [],
   "source": [
    "%matplotlib inline"
   ]
  },
  {
   "cell_type": "code",
   "execution_count": 6,
   "metadata": {
    "scrolled": true
   },
   "outputs": [],
   "source": [
    "import pandas as pd\n",
    "import numpy as np\n",
    "import matplotlib.pyplot as plt"
   ]
  },
  {
   "cell_type": "markdown",
   "metadata": {},
   "source": [
    "## Load the Data"
   ]
  },
  {
   "cell_type": "code",
   "execution_count": 8,
   "metadata": {},
   "outputs": [
    {
     "data": {
      "text/html": [
       "<div>\n",
       "<style scoped>\n",
       "    .dataframe tbody tr th:only-of-type {\n",
       "        vertical-align: middle;\n",
       "    }\n",
       "\n",
       "    .dataframe tbody tr th {\n",
       "        vertical-align: top;\n",
       "    }\n",
       "\n",
       "    .dataframe thead th {\n",
       "        text-align: right;\n",
       "    }\n",
       "</style>\n",
       "<table border=\"1\" class=\"dataframe\">\n",
       "  <thead>\n",
       "    <tr style=\"text-align: right;\">\n",
       "      <th></th>\n",
       "      <th>Unnamed: 0</th>\n",
       "      <th>PassengerId</th>\n",
       "      <th>Survived</th>\n",
       "      <th>Pclass</th>\n",
       "      <th>Name</th>\n",
       "      <th>Sex</th>\n",
       "      <th>Age</th>\n",
       "      <th>SibSp</th>\n",
       "      <th>Parch</th>\n",
       "      <th>Ticket</th>\n",
       "      <th>Fare</th>\n",
       "      <th>Cabin</th>\n",
       "      <th>Embarked</th>\n",
       "      <th>FareAgeRatio</th>\n",
       "      <th>AgeRescaled</th>\n",
       "      <th>FareRescaled</th>\n",
       "    </tr>\n",
       "  </thead>\n",
       "  <tbody>\n",
       "    <tr>\n",
       "      <th>0</th>\n",
       "      <td>597</td>\n",
       "      <td>598</td>\n",
       "      <td>0</td>\n",
       "      <td>3</td>\n",
       "      <td>Johnson, Mr. Alfred</td>\n",
       "      <td>1</td>\n",
       "      <td>49.0</td>\n",
       "      <td>0</td>\n",
       "      <td>0</td>\n",
       "      <td>LINE</td>\n",
       "      <td>0.0</td>\n",
       "      <td>NaN</td>\n",
       "      <td>S</td>\n",
       "      <td>0.0</td>\n",
       "      <td>0.610455</td>\n",
       "      <td>0.0</td>\n",
       "    </tr>\n",
       "    <tr>\n",
       "      <th>1</th>\n",
       "      <td>302</td>\n",
       "      <td>303</td>\n",
       "      <td>0</td>\n",
       "      <td>3</td>\n",
       "      <td>Johnson, Mr. William Cahoone Jr</td>\n",
       "      <td>1</td>\n",
       "      <td>19.0</td>\n",
       "      <td>0</td>\n",
       "      <td>0</td>\n",
       "      <td>LINE</td>\n",
       "      <td>0.0</td>\n",
       "      <td>NaN</td>\n",
       "      <td>S</td>\n",
       "      <td>0.0</td>\n",
       "      <td>0.233476</td>\n",
       "      <td>0.0</td>\n",
       "    </tr>\n",
       "    <tr>\n",
       "      <th>2</th>\n",
       "      <td>179</td>\n",
       "      <td>180</td>\n",
       "      <td>0</td>\n",
       "      <td>3</td>\n",
       "      <td>Leonard, Mr. Lionel</td>\n",
       "      <td>1</td>\n",
       "      <td>36.0</td>\n",
       "      <td>0</td>\n",
       "      <td>0</td>\n",
       "      <td>LINE</td>\n",
       "      <td>0.0</td>\n",
       "      <td>NaN</td>\n",
       "      <td>S</td>\n",
       "      <td>0.0</td>\n",
       "      <td>0.447097</td>\n",
       "      <td>0.0</td>\n",
       "    </tr>\n",
       "    <tr>\n",
       "      <th>3</th>\n",
       "      <td>806</td>\n",
       "      <td>807</td>\n",
       "      <td>0</td>\n",
       "      <td>1</td>\n",
       "      <td>Andrews, Mr. Thomas Jr</td>\n",
       "      <td>1</td>\n",
       "      <td>39.0</td>\n",
       "      <td>0</td>\n",
       "      <td>0</td>\n",
       "      <td>112050</td>\n",
       "      <td>0.0</td>\n",
       "      <td>A36</td>\n",
       "      <td>S</td>\n",
       "      <td>0.0</td>\n",
       "      <td>0.484795</td>\n",
       "      <td>0.0</td>\n",
       "    </tr>\n",
       "    <tr>\n",
       "      <th>4</th>\n",
       "      <td>271</td>\n",
       "      <td>272</td>\n",
       "      <td>1</td>\n",
       "      <td>3</td>\n",
       "      <td>Tornquist, Mr. William Henry</td>\n",
       "      <td>1</td>\n",
       "      <td>25.0</td>\n",
       "      <td>0</td>\n",
       "      <td>0</td>\n",
       "      <td>LINE</td>\n",
       "      <td>0.0</td>\n",
       "      <td>NaN</td>\n",
       "      <td>S</td>\n",
       "      <td>0.0</td>\n",
       "      <td>0.308872</td>\n",
       "      <td>0.0</td>\n",
       "    </tr>\n",
       "  </tbody>\n",
       "</table>\n",
       "</div>"
      ],
      "text/plain": [
       "   Unnamed: 0  PassengerId  Survived  Pclass                             Name  \\\n",
       "0         597          598         0       3              Johnson, Mr. Alfred   \n",
       "1         302          303         0       3  Johnson, Mr. William Cahoone Jr   \n",
       "2         179          180         0       3              Leonard, Mr. Lionel   \n",
       "3         806          807         0       1           Andrews, Mr. Thomas Jr   \n",
       "4         271          272         1       3     Tornquist, Mr. William Henry   \n",
       "\n",
       "   Sex   Age  SibSp  Parch  Ticket  Fare Cabin Embarked  FareAgeRatio  \\\n",
       "0    1  49.0      0      0    LINE   0.0   NaN        S           0.0   \n",
       "1    1  19.0      0      0    LINE   0.0   NaN        S           0.0   \n",
       "2    1  36.0      0      0    LINE   0.0   NaN        S           0.0   \n",
       "3    1  39.0      0      0  112050   0.0   A36        S           0.0   \n",
       "4    1  25.0      0      0    LINE   0.0   NaN        S           0.0   \n",
       "\n",
       "   AgeRescaled  FareRescaled  \n",
       "0     0.610455           0.0  \n",
       "1     0.233476           0.0  \n",
       "2     0.447097           0.0  \n",
       "3     0.484795           0.0  \n",
       "4     0.308872           0.0  "
      ]
     },
     "execution_count": 8,
     "metadata": {},
     "output_type": "execute_result"
    }
   ],
   "source": [
    "# use this to retrieve the titanic data online\n",
    "titanic = pd.read_csv('~/com501/datasets/titanic.csv') \n",
    "titanic.head()"
   ]
  },
  {
   "cell_type": "code",
   "execution_count": 9,
   "metadata": {},
   "outputs": [
    {
     "name": "stdout",
     "output_type": "stream",
     "text": [
      "Index(['Unnamed: 0', 'PassengerId', 'Survived', 'Pclass', 'Name', 'Sex', 'Age',\n",
      "       'SibSp', 'Parch', 'Ticket', 'Fare', 'Cabin', 'Embarked', 'FareAgeRatio',\n",
      "       'AgeRescaled', 'FareRescaled'],\n",
      "      dtype='object')\n"
     ]
    }
   ],
   "source": [
    "print(titanic.columns)"
   ]
  },
  {
   "cell_type": "markdown",
   "metadata": {},
   "source": [
    "## Filter unnecessary fields"
   ]
  },
  {
   "cell_type": "code",
   "execution_count": 10,
   "metadata": {},
   "outputs": [
    {
     "data": {
      "text/html": [
       "<div>\n",
       "<style scoped>\n",
       "    .dataframe tbody tr th:only-of-type {\n",
       "        vertical-align: middle;\n",
       "    }\n",
       "\n",
       "    .dataframe tbody tr th {\n",
       "        vertical-align: top;\n",
       "    }\n",
       "\n",
       "    .dataframe thead th {\n",
       "        text-align: right;\n",
       "    }\n",
       "</style>\n",
       "<table border=\"1\" class=\"dataframe\">\n",
       "  <thead>\n",
       "    <tr style=\"text-align: right;\">\n",
       "      <th></th>\n",
       "      <th>Pclass</th>\n",
       "      <th>Sex</th>\n",
       "      <th>Age</th>\n",
       "      <th>SibSp</th>\n",
       "      <th>Fare</th>\n",
       "      <th>Survived</th>\n",
       "    </tr>\n",
       "  </thead>\n",
       "  <tbody>\n",
       "    <tr>\n",
       "      <th>0</th>\n",
       "      <td>3</td>\n",
       "      <td>1</td>\n",
       "      <td>49.0</td>\n",
       "      <td>0</td>\n",
       "      <td>0.0000</td>\n",
       "      <td>0</td>\n",
       "    </tr>\n",
       "    <tr>\n",
       "      <th>1</th>\n",
       "      <td>3</td>\n",
       "      <td>1</td>\n",
       "      <td>19.0</td>\n",
       "      <td>0</td>\n",
       "      <td>0.0000</td>\n",
       "      <td>0</td>\n",
       "    </tr>\n",
       "    <tr>\n",
       "      <th>2</th>\n",
       "      <td>3</td>\n",
       "      <td>1</td>\n",
       "      <td>36.0</td>\n",
       "      <td>0</td>\n",
       "      <td>0.0000</td>\n",
       "      <td>0</td>\n",
       "    </tr>\n",
       "    <tr>\n",
       "      <th>3</th>\n",
       "      <td>1</td>\n",
       "      <td>1</td>\n",
       "      <td>39.0</td>\n",
       "      <td>0</td>\n",
       "      <td>0.0000</td>\n",
       "      <td>0</td>\n",
       "    </tr>\n",
       "    <tr>\n",
       "      <th>4</th>\n",
       "      <td>3</td>\n",
       "      <td>1</td>\n",
       "      <td>25.0</td>\n",
       "      <td>0</td>\n",
       "      <td>0.0000</td>\n",
       "      <td>1</td>\n",
       "    </tr>\n",
       "    <tr>\n",
       "      <th>5</th>\n",
       "      <td>1</td>\n",
       "      <td>1</td>\n",
       "      <td>40.0</td>\n",
       "      <td>0</td>\n",
       "      <td>0.0000</td>\n",
       "      <td>0</td>\n",
       "    </tr>\n",
       "    <tr>\n",
       "      <th>6</th>\n",
       "      <td>1</td>\n",
       "      <td>1</td>\n",
       "      <td>38.0</td>\n",
       "      <td>0</td>\n",
       "      <td>0.0000</td>\n",
       "      <td>0</td>\n",
       "    </tr>\n",
       "    <tr>\n",
       "      <th>7</th>\n",
       "      <td>3</td>\n",
       "      <td>1</td>\n",
       "      <td>61.0</td>\n",
       "      <td>0</td>\n",
       "      <td>6.2375</td>\n",
       "      <td>0</td>\n",
       "    </tr>\n",
       "    <tr>\n",
       "      <th>8</th>\n",
       "      <td>3</td>\n",
       "      <td>1</td>\n",
       "      <td>74.0</td>\n",
       "      <td>0</td>\n",
       "      <td>7.7750</td>\n",
       "      <td>0</td>\n",
       "    </tr>\n",
       "    <tr>\n",
       "      <th>9</th>\n",
       "      <td>3</td>\n",
       "      <td>1</td>\n",
       "      <td>70.5</td>\n",
       "      <td>0</td>\n",
       "      <td>7.7500</td>\n",
       "      <td>0</td>\n",
       "    </tr>\n",
       "  </tbody>\n",
       "</table>\n",
       "</div>"
      ],
      "text/plain": [
       "   Pclass  Sex   Age  SibSp    Fare  Survived\n",
       "0       3    1  49.0      0  0.0000         0\n",
       "1       3    1  19.0      0  0.0000         0\n",
       "2       3    1  36.0      0  0.0000         0\n",
       "3       1    1  39.0      0  0.0000         0\n",
       "4       3    1  25.0      0  0.0000         1\n",
       "5       1    1  40.0      0  0.0000         0\n",
       "6       1    1  38.0      0  0.0000         0\n",
       "7       3    1  61.0      0  6.2375         0\n",
       "8       3    1  74.0      0  7.7750         0\n",
       "9       3    1  70.5      0  7.7500         0"
      ]
     },
     "execution_count": 10,
     "metadata": {},
     "output_type": "execute_result"
    }
   ],
   "source": [
    "titanic = titanic[['Pclass','Sex', 'Age', 'SibSp', 'Fare', 'Survived' ]]\n",
    "titanic.head(10)"
   ]
  },
  {
   "cell_type": "markdown",
   "metadata": {},
   "source": [
    "## Deal with missing values"
   ]
  },
  {
   "cell_type": "code",
   "execution_count": 11,
   "metadata": {},
   "outputs": [
    {
     "name": "stdout",
     "output_type": "stream",
     "text": [
      "Pclass      False\n",
      "Sex         False\n",
      "Age          True\n",
      "SibSp       False\n",
      "Fare        False\n",
      "Survived    False\n",
      "dtype: bool\n"
     ]
    }
   ],
   "source": [
    "missing_data = titanic.isnull().any()\n",
    "print(missing_data)"
   ]
  },
  {
   "cell_type": "markdown",
   "metadata": {},
   "source": [
    "The above means that we only need to deal with missing age in this version of the titanic dataset"
   ]
  },
  {
   "cell_type": "markdown",
   "metadata": {},
   "source": [
    "### Deal with missing ages"
   ]
  },
  {
   "cell_type": "code",
   "execution_count": 12,
   "metadata": {
    "scrolled": true
   },
   "outputs": [
    {
     "name": "stdout",
     "output_type": "stream",
     "text": [
      "Before Filtering Out Missing Ages, No of Records is  177\n",
      "After Filtering Out Missing Ages, No of Records is  0\n"
     ]
    }
   ],
   "source": [
    "missing_ages = titanic[titanic['Age'].isnull()].shape[0]\n",
    "print('Before Filtering Out Missing Ages, No of Records is ', missing_ages)\n",
    "\n",
    "meanAge = int(titanic['Age'].mean())\n",
    "titanic = titanic.fillna(meanAge)\n",
    "\n",
    "missing_ages = titanic[titanic['Age'].isnull()].shape[0]\n",
    "print('After Filtering Out Missing Ages, No of Records is ', missing_ages)"
   ]
  },
  {
   "cell_type": "markdown",
   "metadata": {},
   "source": [
    "### Thorough checking/dealing for missing-ness just in case"
   ]
  },
  {
   "cell_type": "code",
   "execution_count": 13,
   "metadata": {},
   "outputs": [
    {
     "name": "stdout",
     "output_type": "stream",
     "text": [
      "Before Filtering Out Missing Pclass, No of Records is 0 \n",
      "After Filtering Out Missing Pclass, No of Records is 0 \n",
      "Before Filtering Out Missing Sex, No of Records is 0 \n",
      "After Filtering Out Missing Sex, No of Records is 0 \n",
      "Before Filtering Out Missing Age, No of Records is 0 \n",
      "After Filtering Out Missing Age, No of Records is 0 \n",
      "Before Filtering Out Missing SibSp, No of Records is 0 \n",
      "After Filtering Out Missing SibSp, No of Records is 0 \n",
      "Before Filtering Out Missing Fare, No of Records is 0 \n",
      "After Filtering Out Missing Fare, No of Records is 0 \n",
      "Before Filtering Out Missing Survived, No of Records is 0 \n",
      "After Filtering Out Missing Survived, No of Records is 0 \n"
     ]
    }
   ],
   "source": [
    "for col in titanic.columns:\n",
    "    \n",
    "    missing_data = titanic[titanic[col].isnull()].shape[0]\n",
    "    print('Before Filtering Out Missing {}, No of Records is {} '.format(col, missing_data))\n",
    "    \n",
    "    titanic = titanic.dropna()\n",
    "    titanic.head(10)\n",
    "    \n",
    "    missing_data = titanic[titanic[col].isnull()].shape[0]\n",
    "    print('After Filtering Out Missing {}, No of Records is {} '.format(col, missing_data))\n",
    "    \n"
   ]
  },
  {
   "cell_type": "markdown",
   "metadata": {},
   "source": [
    "## Stats and Visualisation for classes"
   ]
  },
  {
   "cell_type": "markdown",
   "metadata": {},
   "source": [
    "### Survival rates"
   ]
  },
  {
   "cell_type": "code",
   "execution_count": 14,
   "metadata": {},
   "outputs": [
    {
     "data": {
      "text/plain": [
       "<BarContainer object of 2 artists>"
      ]
     },
     "execution_count": 14,
     "metadata": {},
     "output_type": "execute_result"
    },
    {
     "data": {
      "image/png": "[encoded data removed]",
      "text/plain": [
       "<Figure size 432x288 with 1 Axes>"
      ]
     },
     "metadata": {
      "needs_background": "light"
     },
     "output_type": "display_data"
    }
   ],
   "source": [
    "not_survived = titanic[titanic['Survived']==0].shape[0]\n",
    "survived = titanic[titanic['Survived']==1].shape[0]\n",
    "plt.bar(['no','yes'], [not_survived, survived])"
   ]
  },
  {
   "cell_type": "markdown",
   "metadata": {},
   "source": [
    "The above shows that the more dominant class is not survived. In other words, not surviving is more likely than surviving for people in the titanic"
   ]
  },
  {
   "cell_type": "markdown",
   "metadata": {},
   "source": [
    "### Gender/Survival stats.\n",
    "Let us get some stats regarding gender"
   ]
  },
  {
   "cell_type": "code",
   "execution_count": 15,
   "metadata": {},
   "outputs": [
    {
     "data": {
      "text/plain": [
       "<AxesSubplot:xlabel='Sex,Survived'>"
      ]
     },
     "execution_count": 15,
     "metadata": {},
     "output_type": "execute_result"
    },
    {
     "data": {
      "image/png": "[encoded data removed]",
      "text/plain": [
       "<Figure size 432x288 with 1 Axes>"
      ]
     },
     "metadata": {
      "needs_background": "light"
     },
     "output_type": "display_data"
    }
   ],
   "source": [
    "titanic.groupby(['Sex','Survived']).sum().plot.bar()"
   ]
  },
  {
   "cell_type": "markdown",
   "metadata": {},
   "source": [
    "The above operation grouped by gender and summed over all attributes. We might want to consider the mean here as it is more meaningful :-)"
   ]
  },
  {
   "cell_type": "code",
   "execution_count": 16,
   "metadata": {},
   "outputs": [
    {
     "data": {
      "text/plain": [
       "<AxesSubplot:xlabel='Sex,Survived'>"
      ]
     },
     "execution_count": 16,
     "metadata": {},
     "output_type": "execute_result"
    },
    {
     "data": {
      "image/png": "[encoded data removed]",
      "text/plain": [
       "<Figure size 432x288 with 1 Axes>"
      ]
     },
     "metadata": {
      "needs_background": "light"
     },
     "output_type": "display_data"
    }
   ],
   "source": [
    "titanic.groupby(['Sex','Survived']).mean().plot.bar()"
   ]
  },
  {
   "cell_type": "markdown",
   "metadata": {},
   "source": [
    "### Gender/Survival rates"
   ]
  },
  {
   "cell_type": "code",
   "execution_count": 17,
   "metadata": {},
   "outputs": [
    {
     "data": {
      "text/plain": [
       "Survived  Sex\n",
       "0         0       81\n",
       "          1      468\n",
       "1         0      233\n",
       "          1      109\n",
       "Name: Survived, dtype: int64"
      ]
     },
     "execution_count": 17,
     "metadata": {},
     "output_type": "execute_result"
    }
   ],
   "source": [
    "titanic_sex_survive = titanic.groupby(['Survived', 'Sex'])['Survived'].count()\n",
    "titanic_sex_survive.head()"
   ]
  },
  {
   "cell_type": "code",
   "execution_count": 18,
   "metadata": {
    "scrolled": true
   },
   "outputs": [
    {
     "data": {
      "text/plain": [
       "<AxesSubplot:xlabel='Survived,Sex'>"
      ]
     },
     "execution_count": 18,
     "metadata": {},
     "output_type": "execute_result"
    },
    {
     "data": {
      "image/png": "[encoded data removed]",
      "text/plain": [
       "<Figure size 432x288 with 1 Axes>"
      ]
     },
     "metadata": {
      "needs_background": "light"
     },
     "output_type": "display_data"
    }
   ],
   "source": [
    "titanic_sex_survive.plot.bar()"
   ]
  },
  {
   "cell_type": "markdown",
   "metadata": {},
   "source": [
    "# Classifying the titanic dataset"
   ]
  },
  {
   "cell_type": "markdown",
   "metadata": {},
   "source": [
    "Ok so now we are ready to do more serious classification after we gained some insight into our dataset"
   ]
  },
  {
   "cell_type": "code",
   "execution_count": 19,
   "metadata": {},
   "outputs": [],
   "source": [
    "\n",
    "from sklearn.tree import DecisionTreeClassifier\n",
    "from sklearn.tree import plot_tree\n",
    "from sklearn.neighbors import KNeighborsClassifier\n",
    "from sklearn.linear_model import LogisticRegression\n",
    "\n",
    "from sklearn.metrics import plot_confusion_matrix\n",
    "from sklearn.metrics import recall_score\n",
    "from sklearn.metrics import precision_score\n",
    "\n",
    "from sklearn.model_selection import train_test_split\n"
   ]
  },
  {
   "cell_type": "code",
   "execution_count": 20,
   "metadata": {},
   "outputs": [],
   "source": [
    "X = titanic[['Pclass','Sex', 'Age', 'SibSp', 'Fare']]\n",
    "y = titanic['Survived']\n",
    "\n",
    "X_train, X_test, y_train, y_test = train_test_split(X, y, test_size=0.33, random_state=42)"
   ]
  },
  {
   "cell_type": "code",
   "execution_count": 21,
   "metadata": {},
   "outputs": [
    {
     "data": {
      "text/plain": [
       "295"
      ]
     },
     "execution_count": 21,
     "metadata": {},
     "output_type": "execute_result"
    }
   ],
   "source": [
    "y_test.shape[0]"
   ]
  },
  {
   "cell_type": "markdown",
   "metadata": {},
   "source": [
    "The below will cause an error since there are categorical data that needs to be converted to ‎numerical"
   ]
  },
  {
   "cell_type": "code",
   "execution_count": 22,
   "metadata": {},
   "outputs": [],
   "source": [
    "# DT = DecisionTreeClassifier().fit(X_train, y_train)"
   ]
  },
  {
   "cell_type": "markdown",
   "metadata": {},
   "source": [
    "## Categorical to Numerical"
   ]
  },
  {
   "cell_type": "code",
   "execution_count": 23,
   "metadata": {},
   "outputs": [
    {
     "name": "stdout",
     "output_type": "stream",
     "text": [
      "{'Sex': {0: 0, 1: 1}}\n"
     ]
    },
    {
     "data": {
      "text/html": [
       "<div>\n",
       "<style scoped>\n",
       "    .dataframe tbody tr th:only-of-type {\n",
       "        vertical-align: middle;\n",
       "    }\n",
       "\n",
       "    .dataframe tbody tr th {\n",
       "        vertical-align: top;\n",
       "    }\n",
       "\n",
       "    .dataframe thead th {\n",
       "        text-align: right;\n",
       "    }\n",
       "</style>\n",
       "<table border=\"1\" class=\"dataframe\">\n",
       "  <thead>\n",
       "    <tr style=\"text-align: right;\">\n",
       "      <th></th>\n",
       "      <th>Pclass</th>\n",
       "      <th>Sex</th>\n",
       "      <th>Age</th>\n",
       "      <th>SibSp</th>\n",
       "      <th>Fare</th>\n",
       "      <th>Survived</th>\n",
       "    </tr>\n",
       "  </thead>\n",
       "  <tbody>\n",
       "    <tr>\n",
       "      <th>0</th>\n",
       "      <td>3</td>\n",
       "      <td>1</td>\n",
       "      <td>49.0</td>\n",
       "      <td>0</td>\n",
       "      <td>0.0</td>\n",
       "      <td>0</td>\n",
       "    </tr>\n",
       "    <tr>\n",
       "      <th>1</th>\n",
       "      <td>3</td>\n",
       "      <td>1</td>\n",
       "      <td>19.0</td>\n",
       "      <td>0</td>\n",
       "      <td>0.0</td>\n",
       "      <td>0</td>\n",
       "    </tr>\n",
       "    <tr>\n",
       "      <th>2</th>\n",
       "      <td>3</td>\n",
       "      <td>1</td>\n",
       "      <td>36.0</td>\n",
       "      <td>0</td>\n",
       "      <td>0.0</td>\n",
       "      <td>0</td>\n",
       "    </tr>\n",
       "    <tr>\n",
       "      <th>3</th>\n",
       "      <td>1</td>\n",
       "      <td>1</td>\n",
       "      <td>39.0</td>\n",
       "      <td>0</td>\n",
       "      <td>0.0</td>\n",
       "      <td>0</td>\n",
       "    </tr>\n",
       "    <tr>\n",
       "      <th>4</th>\n",
       "      <td>3</td>\n",
       "      <td>1</td>\n",
       "      <td>25.0</td>\n",
       "      <td>0</td>\n",
       "      <td>0.0</td>\n",
       "      <td>1</td>\n",
       "    </tr>\n",
       "  </tbody>\n",
       "</table>\n",
       "</div>"
      ],
      "text/plain": [
       "   Pclass  Sex   Age  SibSp  Fare  Survived\n",
       "0       3    1  49.0      0   0.0         0\n",
       "1       3    1  19.0      0   0.0         0\n",
       "2       3    1  36.0      0   0.0         0\n",
       "3       1    1  39.0      0   0.0         0\n",
       "4       3    1  25.0      0   0.0         1"
      ]
     },
     "execution_count": 23,
     "metadata": {},
     "output_type": "execute_result"
    }
   ],
   "source": [
    "labels = titanic['Sex'].astype('category').cat.categories.tolist()\n",
    "replace_sex = {'Sex' : {k: v for k,v in zip(labels,list(range(len(labels)+1)))}}\n",
    "print(replace_sex)\n",
    "\n",
    "\n",
    "titanic.replace(replace_sex, inplace=True)\n",
    "\n",
    "titanic.head()"
   ]
  },
  {
   "cell_type": "markdown",
   "metadata": {},
   "source": [
    "## Split the Data"
   ]
  },
  {
   "cell_type": "code",
   "execution_count": 24,
   "metadata": {},
   "outputs": [],
   "source": [
    "X = titanic[['Sex', 'Age', 'SibSp', 'Fare', 'Pclass']]\n",
    "y = titanic['Survived']\n",
    "\n",
    "X_train, X_test, y_train, y_test = train_test_split(X, y, test_size=0.33, random_state=42)"
   ]
  },
  {
   "cell_type": "markdown",
   "metadata": {},
   "source": [
    "## Fit the classifiers"
   ]
  },
  {
   "cell_type": "code",
   "execution_count": 25,
   "metadata": {},
   "outputs": [],
   "source": [
    "DT   = DecisionTreeClassifier(max_depth=3).fit(X_train, y_train)\n",
    "kNN  = KNeighborsClassifier(n_neighbors=3).fit(X_train, y_train)\n",
    "LogR = LogisticRegression(max_iter=100).fit(X_train, y_train)"
   ]
  },
  {
   "cell_type": "markdown",
   "metadata": {},
   "source": [
    "### Visualise the tree "
   ]
  },
  {
   "cell_type": "code",
   "execution_count": 26,
   "metadata": {},
   "outputs": [],
   "source": [
    "# plt.figure(figsize=(14, 12))\n",
    "# plot_tree(DT, filled=True)\n",
    "# plt.show()"
   ]
  },
  {
   "cell_type": "markdown",
   "metadata": {},
   "source": [
    "### Confusion Matrix and Performance Metrics"
   ]
  },
  {
   "cell_type": "markdown",
   "metadata": {},
   "source": [
    "Let us plot the normalised confusion matrix using true classes to get the pr(detect+) and pr(detect-) directly inside the matrix. You can calculate these as well using the recall score."
   ]
  },
  {
   "cell_type": "markdown",
   "metadata": {},
   "source": [
    "Let us do it first for the decision tree and then we write a helper function to return the metrics and confusion matrix for other classifiers"
   ]
  },
  {
   "cell_type": "markdown",
   "metadata": {},
   "source": [
    "### pr(detect)"
   ]
  },
  {
   "cell_type": "code",
   "execution_count": 27,
   "metadata": {},
   "outputs": [
    {
     "name": "stdout",
     "output_type": "stream",
     "text": [
      "pr(detect+) for DT =  0.8756476683937824\n",
      "pr(detect-) for DT=  0.696078431372549\n"
     ]
    },
    {
     "name": "stderr",
     "output_type": "stream",
     "text": [
      "/Users/karan.verma/miniconda3/lib/python3.8/site-packages/sklearn/utils/deprecation.py:87: FutureWarning: Function plot_confusion_matrix is deprecated; Function `plot_confusion_matrix` is deprecated in 1.0 and will be removed in 1.2. Use one of the class methods: ConfusionMatrixDisplay.from_predictions or ConfusionMatrixDisplay.from_estimator.\n",
      "  warnings.warn(msg, category=FutureWarning)\n"
     ]
    },
    {
     "data": {
      "image/png": "[encoded data removed]",
      "text/plain": [
       "<Figure size 432x288 with 2 Axes>"
      ]
     },
     "metadata": {
      "needs_background": "light"
     },
     "output_type": "display_data"
    }
   ],
   "source": [
    "target_labels = ['not survived', 'survived']\n",
    "confusion   = plot_confusion_matrix(DT, X_test, y_test, display_labels=target_labels, cmap=plt.cm.Blues, normalize='true')\n",
    "#print('normalised confusion matrix as per actual classes =\\n ', confusion.confusion_matrix)\n",
    "pr_detect_plus  = confusion.confusion_matrix[0,0]\n",
    "pr_detect_minus = confusion.confusion_matrix[1,1]\n",
    "print('pr(detect+) for DT = ', pr_detect_plus)\n",
    "print('pr(detect-) for DT= ', pr_detect_minus)"
   ]
  },
  {
   "cell_type": "markdown",
   "metadata": {},
   "source": [
    "### pr(predict)\n",
    "Now normalise using prediction to get the pr(predict+) and pr(predict-)"
   ]
  },
  {
   "cell_type": "code",
   "execution_count": 21,
   "metadata": {},
   "outputs": [
    {
     "name": "stdout",
     "output_type": "stream",
     "text": [
      "pr(predict+) =  0.8177083333333334\n",
      "pr(predict-) =  0.8252427184466019\n"
     ]
    },
    {
     "data": {
      "image/png": "[encoded data removed]",
      "text/plain": [
       "<Figure size 432x288 with 2 Axes>"
      ]
     },
     "metadata": {
      "needs_background": "light"
     },
     "output_type": "display_data"
    }
   ],
   "source": [
    "confusion = plot_confusion_matrix(DT, X_test, y_test, display_labels=target_labels, cmap=plt.cm.Blues, normalize='pred')\n",
    "#print('normalised confusion matrix as per predicted classes =\\n ',confusion.confusion_matrix)\n",
    "pr_predict_plus  = confusion.confusion_matrix[0,0]\n",
    "pr_predict_minus = confusion.confusion_matrix[1,1]\n",
    "print('pr(predict+) = ', pr_predict_plus)\n",
    "print('pr(predict-) = ', pr_predict_minus)"
   ]
  },
  {
   "cell_type": "markdown",
   "metadata": {},
   "source": [
    "### Helper Function\n",
    "Now we write our helper function"
   ]
  },
  {
   "cell_type": "code",
   "execution_count": 22,
   "metadata": {},
   "outputs": [],
   "source": [
    "\n",
    "def plot_confusion_detect(cls, X_test, y_test, display_labels):\n",
    "    confusion = plot_confusion_matrix(cls, X_test, y_test, display_labels=display_labels, cmap=plt.cm.Blues,\n",
    "                                      normalize='true')\n",
    "    \n",
    "    pr_detect_plus  = confusion.confusion_matrix[0,0]\n",
    "    pr_detect_minus = confusion.confusion_matrix[1,1]\n",
    "        \n",
    "    print('pr(detect+) = ', pr_detect_plus)\n",
    "    print('pr(detect-) = ', pr_detect_minus)\n",
    "    print('')\n",
    "    \n",
    "    return pr_detect_plus, pr_detect_minus, confusion\n",
    "def plot_confusion_predict(cls, X_test, y_test, display_labels):\n",
    "    confusion = plot_confusion_matrix(cls, X_test, y_test, display_labels=display_labels, cmap=plt.cm.Blues,\n",
    "                                      normalize='pred')\n",
    "    \n",
    "    pr_predict_plus  = confusion.confusion_matrix[0,0]\n",
    "    pr_predict_minus = confusion.confusion_matrix[1,1]\n",
    "        \n",
    "    print('pr(predict+) = ', pr_predict_plus)\n",
    "    print('pr(predict-) = ', pr_predict_minus)\n",
    "    print('')\n",
    "        \n",
    "    return pr_predict_plus, pr_predict_minus, confusion\n",
    "\n",
    "\n",
    "def plot_confusion_pred(cls, X_test, y_test, display_labels, detect_predict ='true'):\n",
    "    if detect_predict =='true': return plot_print_confusion_detect(cls, X_test, y_test, display_labels)\n",
    "    if detect_predict =='pred': return plot_print_confusion_predict(cls, X_test, y_test, display_labels)\n",
    "    "
   ]
  },
  {
   "cell_type": "markdown",
   "metadata": {},
   "source": [
    "Now we will use some of the previous function in order to measure the performance of the ‎different fitted models."
   ]
  },
  {
   "cell_type": "code",
   "execution_count": 25,
   "metadata": {},
   "outputs": [
    {
     "name": "stdout",
     "output_type": "stream",
     "text": [
      "pr(detect+) =  0.8971428571428571\n",
      "pr(detect-) =  0.7083333333333334\n",
      "\n",
      "pr(detect+) =  0.8457142857142858\n",
      "pr(detect-) =  0.5416666666666666\n",
      "\n",
      "pr(detect+) =  0.8742857142857143\n",
      "pr(detect-) =  0.7166666666666667\n",
      "\n",
      "The max detect is 0.8971428571428571 and the winner classifier is Decision Tree\n"
     ]
    },
    {
     "data": {
      "image/png": "[encoded data removed]",
      "text/plain": [
       "<Figure size 432x288 with 2 Axes>"
      ]
     },
     "metadata": {
      "needs_background": "light"
     },
     "output_type": "display_data"
    },
    {
     "data": {
      "image/png": "[encoded data removed]",
      "text/plain": [
       "<Figure size 432x288 with 2 Axes>"
      ]
     },
     "metadata": {
      "needs_background": "light"
     },
     "output_type": "display_data"
    },
    {
     "data": {
      "image/png": "[encoded data removed]",
      "text/plain": [
       "<Figure size 432x288 with 2 Axes>"
      ]
     },
     "metadata": {
      "needs_background": "light"
     },
     "output_type": "display_data"
    }
   ],
   "source": [
    "pr_detect_plus_DT, _ ,_ = plot_confusion_detect(DT, X_test, y_test, display_labels=target_labels)\n",
    "pr_detect_plus_kNN, _ ,_ = plot_confusion_detect(kNN, X_test, y_test, display_labels=target_labels)\n",
    "pr_detect_plus_LogR, _ ,_ = plot_confusion_detect(LogR, X_test, y_test, display_labels=target_labels)\n",
    "\n",
    "pr_detect_plus          = [pr_detect_plus_DT, pr_detect_plus_kNN, pr_detect_plus_LogR ]\n",
    "pr_detect_plus_max      = max(pr_detect_plus)\n",
    "pr_detect_plus_max_ind  = pr_detect_plus.index(pr_detect_plus_max)\n",
    "\n",
    "classifiers_names = [\"Decision Tree\", \"Nearest Neighbors\",  \"Logistic Regression\"]\n",
    "\n",
    "print('The max detect is {} and the winner classifier is {}'.format(pr_detect_plus_max, \n",
    "                                                                classifiers_names[pr_detect_plus_max_ind]))"
   ]
  },
  {
   "cell_type": "markdown",
   "metadata": {},
   "source": [
    "## Your turn"
   ]
  },
  {
   "cell_type": "markdown",
   "metadata": {},
   "source": [
    "Optimise the max_depth, k and apply cross validation and see if this improve the detection rates"
   ]
  },
  {
   "cell_type": "code",
   "execution_count": null,
   "metadata": {},
   "outputs": [],
   "source": []
  },
  {
   "cell_type": "code",
   "execution_count": null,
   "metadata": {},
   "outputs": [],
   "source": []
  }
 ],
 "metadata": {
  "kernelspec": {
   "display_name": "Python 3 (ipykernel)",
   "language": "python",
   "name": "python3"
  },
  "language_info": {
   "codemirror_mode": {
    "name": "ipython",
    "version": 3
   },
   "file_extension": ".py",
   "mimetype": "text/x-python",
   "name": "python",
   "nbconvert_exporter": "python",
   "pygments_lexer": "ipython3",
   "version": "3.8.3"
  }
 },
 "nbformat": 4,
 "nbformat_minor": 4
}